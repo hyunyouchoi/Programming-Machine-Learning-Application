
  {
   "cell_type": "code",
   "execution_count": 166,
   "metadata": {
    "collapsed": false
   },
   "outputs": [],
   "source": [
    "from sklearn.cross_validation import KFold\n",
    "from sklearn.linear_model import LinearRegression, Lasso, Ridge, ElasticNet, SGDRegressor\n",
    "import numpy as np\n",
    "import pylab as pl"
   ]
  },
  {
   "cell_type": "code",
   "execution_count": 167,
   "metadata": {
    "collapsed": false
   },
   "outputs": [],
   "source": [
    "import pandas as pd"
   ]
  },
  {
   "cell_type": "markdown",
   "metadata": {},
   "source": [
    "# Question 1.a"
   ]
  },
  {
   "cell_type": "code",
   "execution_count": 168,
   "metadata": {
    "collapsed": false
   },
   "outputs": [
    {
     "data": {
      "text/html": [
       "<div>\n",
       "<table border=\"1\" class=\"dataframe\">\n",
       "  <thead>\n",
       "    <tr style=\"text-align: right;\">\n",
       "      <th></th>\n",
       "      <th>state</th>\n",
       "      <th>communityname</th>\n",
       "      <th>population</th>\n",
       "      <th>householdsize</th>\n",
       "      <th>racepctblack</th>\n",
       "      <th>racePctWhite</th>\n",
       "      <th>racePctAsian</th>\n",
       "      <th>racePctHisp</th>\n",
       "      <th>agePct12t21</th>\n",
       "      <th>agePct12t29</th>\n",
       "      <th>...</th>\n",
       "      <th>NumStreet</th>\n",
       "      <th>PctForeignBorn</th>\n",
       "      <th>PctBornSameState</th>\n",
       "      <th>PctSameHouse85</th>\n",
       "      <th>PctSameCity85</th>\n",
       "      <th>PctSameState85</th>\n",
       "      <th>LandArea</th>\n",
       "      <th>PopDens</th>\n",
       "      <th>PctUsePubTrans</th>\n",
       "      <th>ViolentCrimesPerPop</th>\n",
       "    </tr>\n",
       "  </thead>\n",
       "  <tbody>\n",
       "    <tr>\n",
       "      <th>0</th>\n",
       "      <td>8</td>\n",
       "      <td>Lakewoodcity</td>\n",
       "      <td>0.19</td>\n",
       "      <td>0.33</td>\n",
       "      <td>0.02</td>\n",
       "      <td>0.90</td>\n",
       "      <td>0.12</td>\n",
       "      <td>0.17</td>\n",
       "      <td>0.34</td>\n",
       "      <td>0.47</td>\n",
       "      <td>...</td>\n",
       "      <td>0</td>\n",
       "      <td>0.12</td>\n",
       "      <td>0.42</td>\n",
       "      <td>0.50</td>\n",
       "      <td>0.51</td>\n",
       "      <td>0.64</td>\n",
       "      <td>0.12</td>\n",
       "      <td>0.26</td>\n",
       "      <td>0.20</td>\n",
       "      <td>0.20</td>\n",
       "    </tr>\n",
       "    <tr>\n",
       "      <th>1</th>\n",
       "      <td>53</td>\n",
       "      <td>Tukwilacity</td>\n",
       "      <td>0.00</td>\n",
       "      <td>0.16</td>\n",
       "      <td>0.12</td>\n",
       "      <td>0.74</td>\n",
       "      <td>0.45</td>\n",
       "      <td>0.07</td>\n",
       "      <td>0.26</td>\n",
       "      <td>0.59</td>\n",
       "      <td>...</td>\n",
       "      <td>0</td>\n",
       "      <td>0.21</td>\n",
       "      <td>0.50</td>\n",
       "      <td>0.34</td>\n",
       "      <td>0.60</td>\n",
       "      <td>0.52</td>\n",
       "      <td>0.02</td>\n",
       "      <td>0.12</td>\n",
       "      <td>0.45</td>\n",
       "      <td>0.67</td>\n",
       "    </tr>\n",
       "    <tr>\n",
       "      <th>2</th>\n",
       "      <td>24</td>\n",
       "      <td>Aberdeentown</td>\n",
       "      <td>0.00</td>\n",
       "      <td>0.42</td>\n",
       "      <td>0.49</td>\n",
       "      <td>0.56</td>\n",
       "      <td>0.17</td>\n",
       "      <td>0.04</td>\n",
       "      <td>0.39</td>\n",
       "      <td>0.47</td>\n",
       "      <td>...</td>\n",
       "      <td>0</td>\n",
       "      <td>0.14</td>\n",
       "      <td>0.49</td>\n",
       "      <td>0.54</td>\n",
       "      <td>0.67</td>\n",
       "      <td>0.56</td>\n",
       "      <td>0.01</td>\n",
       "      <td>0.21</td>\n",
       "      <td>0.02</td>\n",
       "      <td>0.43</td>\n",
       "    </tr>\n",
       "    <tr>\n",
       "      <th>3</th>\n",
       "      <td>34</td>\n",
       "      <td>Willingborotownship</td>\n",
       "      <td>0.04</td>\n",
       "      <td>0.77</td>\n",
       "      <td>1.00</td>\n",
       "      <td>0.08</td>\n",
       "      <td>0.12</td>\n",
       "      <td>0.10</td>\n",
       "      <td>0.51</td>\n",
       "      <td>0.50</td>\n",
       "      <td>...</td>\n",
       "      <td>0</td>\n",
       "      <td>0.19</td>\n",
       "      <td>0.30</td>\n",
       "      <td>0.73</td>\n",
       "      <td>0.64</td>\n",
       "      <td>0.65</td>\n",
       "      <td>0.02</td>\n",
       "      <td>0.39</td>\n",
       "      <td>0.28</td>\n",
       "      <td>0.12</td>\n",
       "    </tr>\n",
       "    <tr>\n",
       "      <th>4</th>\n",
       "      <td>42</td>\n",
       "      <td>Bethlehemtownship</td>\n",
       "      <td>0.01</td>\n",
       "      <td>0.55</td>\n",
       "      <td>0.02</td>\n",
       "      <td>0.95</td>\n",
       "      <td>0.09</td>\n",
       "      <td>0.05</td>\n",
       "      <td>0.38</td>\n",
       "      <td>0.38</td>\n",
       "      <td>...</td>\n",
       "      <td>0</td>\n",
       "      <td>0.11</td>\n",
       "      <td>0.72</td>\n",
       "      <td>0.64</td>\n",
       "      <td>0.61</td>\n",
       "      <td>0.53</td>\n",
       "      <td>0.04</td>\n",
       "      <td>0.09</td>\n",
       "      <td>0.02</td>\n",
       "      <td>0.03</td>\n",
       "    </tr>\n",
       "  </tbody>\n",
       "</table>\n",
       "<p>5 rows × 100 columns</p>\n",
       "</div>"
      ],
      "text/plain": [
       "   state        communityname  population  householdsize  racepctblack  \\\n",
       "0      8         Lakewoodcity        0.19           0.33          0.02   \n",
       "1     53          Tukwilacity        0.00           0.16          0.12   \n",
       "2     24         Aberdeentown        0.00           0.42          0.49   \n",
       "3     34  Willingborotownship        0.04           0.77          1.00   \n",
       "4     42    Bethlehemtownship        0.01           0.55          0.02   \n",
       "\n",
       "   racePctWhite  racePctAsian  racePctHisp  agePct12t21  agePct12t29  \\\n",
       "0          0.90          0.12         0.17         0.34         0.47   \n",
       "1          0.74          0.45         0.07         0.26         0.59   \n",
       "2          0.56          0.17         0.04         0.39         0.47   \n",
       "3          0.08          0.12         0.10         0.51         0.50   \n",
       "4          0.95          0.09         0.05         0.38         0.38   \n",
       "\n",
       "          ...           NumStreet  PctForeignBorn  PctBornSameState  \\\n",
       "0         ...                   0            0.12              0.42   \n",
       "1         ...                   0            0.21              0.50   \n",
       "2         ...                   0            0.14              0.49   \n",
       "3         ...                   0            0.19              0.30   \n",
       "4         ...                   0            0.11              0.72   \n",
       "\n",
       "   PctSameHouse85  PctSameCity85  PctSameState85  LandArea  PopDens  \\\n",
       "0            0.50           0.51            0.64      0.12     0.26   \n",
       "1            0.34           0.60            0.52      0.02     0.12   \n",
       "2            0.54           0.67            0.56      0.01     0.21   \n",
       "3            0.73           0.64            0.65      0.02     0.39   \n",
       "4            0.64           0.61            0.53      0.04     0.09   \n",
       "\n",
       "   PctUsePubTrans  ViolentCrimesPerPop  \n",
       "0            0.20                 0.20  \n",
       "1            0.45                 0.67  \n",
       "2            0.02                 0.43  \n",
       "3            0.28                 0.12  \n",
       "4            0.02                 0.03  \n",
       "\n",
       "[5 rows x 100 columns]"
      ]
     },
     "execution_count": 168,
     "metadata": {},
     "output_type": "execute_result"
    }
   ],
   "source": [
    "communities_p = pd.read_csv(\"communities.csv\", na_values=[\"?\"])\n",
    "communities_p.head()"
   ]
  },
  {
   "cell_type": "code",
   "execution_count": 169,
   "metadata": {
    "collapsed": false
   },
   "outputs": [
    {
     "data": {
      "text/html": [
       "<div>\n",
       "<table border=\"1\" class=\"dataframe\">\n",
       "  <thead>\n",
       "    <tr style=\"text-align: right;\">\n",
       "      <th></th>\n",
       "      <th>state</th>\n",
       "      <th>communityname</th>\n",
       "      <th>population</th>\n",
       "      <th>householdsize</th>\n",
       "      <th>racepctblack</th>\n",
       "      <th>racePctWhite</th>\n",
       "      <th>racePctAsian</th>\n",
       "      <th>racePctHisp</th>\n",
       "      <th>agePct12t21</th>\n",
       "      <th>agePct12t29</th>\n",
       "      <th>...</th>\n",
       "      <th>NumStreet</th>\n",
       "      <th>PctForeignBorn</th>\n",
       "      <th>PctBornSameState</th>\n",
       "      <th>PctSameHouse85</th>\n",
       "      <th>PctSameCity85</th>\n",
       "      <th>PctSameState85</th>\n",
       "      <th>LandArea</th>\n",
       "      <th>PopDens</th>\n",
       "      <th>PctUsePubTrans</th>\n",
       "      <th>ViolentCrimesPerPop</th>\n",
       "    </tr>\n",
       "  </thead>\n",
       "  <tbody>\n",
       "    <tr>\n",
       "      <th>count</th>\n",
       "      <td>1994.000000</td>\n",
       "      <td>1994</td>\n",
       "      <td>1994.000000</td>\n",
       "      <td>1994.000000</td>\n",
       "      <td>1994.000000</td>\n",
       "      <td>1994.000000</td>\n",
       "      <td>1994.000000</td>\n",
       "      <td>1994.000000</td>\n",
       "      <td>1994.000000</td>\n",
       "      <td>1994.000000</td>\n",
       "      <td>...</td>\n",
       "      <td>1994.000000</td>\n",
       "      <td>1994.000000</td>\n",
       "      <td>1994.000000</td>\n",
       "      <td>1994.000000</td>\n",
       "      <td>1994.000000</td>\n",
       "      <td>1994.000000</td>\n",
       "      <td>1994.000000</td>\n",
       "      <td>1994.000000</td>\n",
       "      <td>1994.000000</td>\n",
       "      <td>1994.000000</td>\n",
       "    </tr>\n",
       "    <tr>\n",
       "      <th>unique</th>\n",
       "      <td>NaN</td>\n",
       "      <td>1828</td>\n",
       "      <td>NaN</td>\n",
       "      <td>NaN</td>\n",
       "      <td>NaN</td>\n",
       "      <td>NaN</td>\n",
       "      <td>NaN</td>\n",
       "      <td>NaN</td>\n",
       "      <td>NaN</td>\n",
       "      <td>NaN</td>\n",
       "      <td>...</td>\n",
       "      <td>NaN</td>\n",
       "      <td>NaN</td>\n",
       "      <td>NaN</td>\n",
       "      <td>NaN</td>\n",
       "      <td>NaN</td>\n",
       "      <td>NaN</td>\n",
       "      <td>NaN</td>\n",
       "      <td>NaN</td>\n",
       "      <td>NaN</td>\n",
       "      <td>NaN</td>\n",
       "    </tr>\n",
       "    <tr>\n",
       "      <th>top</th>\n",
       "      <td>NaN</td>\n",
       "      <td>Jacksonvillecity</td>\n",
       "      <td>NaN</td>\n",
       "      <td>NaN</td>\n",
       "      <td>NaN</td>\n",
       "      <td>NaN</td>\n",
       "      <td>NaN</td>\n",
       "      <td>NaN</td>\n",
       "      <td>NaN</td>\n",
       "      <td>NaN</td>\n",
       "      <td>...</td>\n",
       "      <td>NaN</td>\n",
       "      <td>NaN</td>\n",
       "      <td>NaN</td>\n",
       "      <td>NaN</td>\n",
       "      <td>NaN</td>\n",
       "      <td>NaN</td>\n",
       "      <td>NaN</td>\n",
       "      <td>NaN</td>\n",
       "      <td>NaN</td>\n",
       "      <td>NaN</td>\n",
       "    </tr>\n",
       "    <tr>\n",
       "      <th>freq</th>\n",
       "      <td>NaN</td>\n",
       "      <td>5</td>\n",
       "      <td>NaN</td>\n",
       "      <td>NaN</td>\n",
       "      <td>NaN</td>\n",
       "      <td>NaN</td>\n",
       "      <td>NaN</td>\n",
       "      <td>NaN</td>\n",
       "      <td>NaN</td>\n",
       "      <td>NaN</td>\n",
       "      <td>...</td>\n",
       "      <td>NaN</td>\n",
       "      <td>NaN</td>\n",
       "      <td>NaN</td>\n",
       "      <td>NaN</td>\n",
       "      <td>NaN</td>\n",
       "      <td>NaN</td>\n",
       "      <td>NaN</td>\n",
       "      <td>NaN</td>\n",
       "      <td>NaN</td>\n",
       "      <td>NaN</td>\n",
       "    </tr>\n",
       "    <tr>\n",
       "      <th>mean</th>\n",
       "      <td>28.683551</td>\n",
       "      <td>NaN</td>\n",
       "      <td>0.057593</td>\n",
       "      <td>0.463395</td>\n",
       "      <td>0.179629</td>\n",
       "      <td>0.753716</td>\n",
       "      <td>0.153681</td>\n",
       "      <td>0.144022</td>\n",
       "      <td>0.424218</td>\n",
       "      <td>0.493867</td>\n",
       "      <td>...</td>\n",
       "      <td>0.022778</td>\n",
       "      <td>0.215552</td>\n",
       "      <td>0.608892</td>\n",
       "      <td>0.535050</td>\n",
       "      <td>0.626424</td>\n",
       "      <td>0.651530</td>\n",
       "      <td>0.065231</td>\n",
       "      <td>0.232854</td>\n",
       "      <td>0.161685</td>\n",
       "      <td>0.237979</td>\n",
       "    </tr>\n",
       "    <tr>\n",
       "      <th>std</th>\n",
       "      <td>16.397553</td>\n",
       "      <td>NaN</td>\n",
       "      <td>0.126906</td>\n",
       "      <td>0.163717</td>\n",
       "      <td>0.253442</td>\n",
       "      <td>0.244039</td>\n",
       "      <td>0.208877</td>\n",
       "      <td>0.232492</td>\n",
       "      <td>0.155196</td>\n",
       "      <td>0.143564</td>\n",
       "      <td>...</td>\n",
       "      <td>0.100400</td>\n",
       "      <td>0.231134</td>\n",
       "      <td>0.204329</td>\n",
       "      <td>0.181352</td>\n",
       "      <td>0.200521</td>\n",
       "      <td>0.198221</td>\n",
       "      <td>0.109459</td>\n",
       "      <td>0.203092</td>\n",
       "      <td>0.229055</td>\n",
       "      <td>0.232985</td>\n",
       "    </tr>\n",
       "    <tr>\n",
       "      <th>min</th>\n",
       "      <td>1.000000</td>\n",
       "      <td>NaN</td>\n",
       "      <td>0.000000</td>\n",
       "      <td>0.000000</td>\n",
       "      <td>0.000000</td>\n",
       "      <td>0.000000</td>\n",
       "      <td>0.000000</td>\n",
       "      <td>0.000000</td>\n",
       "      <td>0.000000</td>\n",
       "      <td>0.000000</td>\n",
       "      <td>...</td>\n",
       "      <td>0.000000</td>\n",
       "      <td>0.000000</td>\n",
       "      <td>0.000000</td>\n",
       "      <td>0.000000</td>\n",
       "      <td>0.000000</td>\n",
       "      <td>0.000000</td>\n",
       "      <td>0.000000</td>\n",
       "      <td>0.000000</td>\n",
       "      <td>0.000000</td>\n",
       "      <td>0.000000</td>\n",
       "    </tr>\n",
       "    <tr>\n",
       "      <th>25%</th>\n",
       "      <td>12.000000</td>\n",
       "      <td>NaN</td>\n",
       "      <td>0.010000</td>\n",
       "      <td>0.350000</td>\n",
       "      <td>0.020000</td>\n",
       "      <td>0.630000</td>\n",
       "      <td>0.040000</td>\n",
       "      <td>0.010000</td>\n",
       "      <td>0.340000</td>\n",
       "      <td>0.410000</td>\n",
       "      <td>...</td>\n",
       "      <td>0.000000</td>\n",
       "      <td>0.060000</td>\n",
       "      <td>0.470000</td>\n",
       "      <td>0.420000</td>\n",
       "      <td>0.520000</td>\n",
       "      <td>0.560000</td>\n",
       "      <td>0.020000</td>\n",
       "      <td>0.100000</td>\n",
       "      <td>0.020000</td>\n",
       "      <td>0.070000</td>\n",
       "    </tr>\n",
       "    <tr>\n",
       "      <th>50%</th>\n",
       "      <td>34.000000</td>\n",
       "      <td>NaN</td>\n",
       "      <td>0.020000</td>\n",
       "      <td>0.440000</td>\n",
       "      <td>0.060000</td>\n",
       "      <td>0.850000</td>\n",
       "      <td>0.070000</td>\n",
       "      <td>0.040000</td>\n",
       "      <td>0.400000</td>\n",
       "      <td>0.480000</td>\n",
       "      <td>...</td>\n",
       "      <td>0.000000</td>\n",
       "      <td>0.130000</td>\n",
       "      <td>0.630000</td>\n",
       "      <td>0.540000</td>\n",
       "      <td>0.670000</td>\n",
       "      <td>0.700000</td>\n",
       "      <td>0.040000</td>\n",
       "      <td>0.170000</td>\n",
       "      <td>0.070000</td>\n",
       "      <td>0.150000</td>\n",
       "    </tr>\n",
       "    <tr>\n",
       "      <th>75%</th>\n",
       "      <td>42.000000</td>\n",
       "      <td>NaN</td>\n",
       "      <td>0.050000</td>\n",
       "      <td>0.540000</td>\n",
       "      <td>0.230000</td>\n",
       "      <td>0.940000</td>\n",
       "      <td>0.170000</td>\n",
       "      <td>0.160000</td>\n",
       "      <td>0.470000</td>\n",
       "      <td>0.540000</td>\n",
       "      <td>...</td>\n",
       "      <td>0.000000</td>\n",
       "      <td>0.280000</td>\n",
       "      <td>0.777500</td>\n",
       "      <td>0.660000</td>\n",
       "      <td>0.770000</td>\n",
       "      <td>0.790000</td>\n",
       "      <td>0.070000</td>\n",
       "      <td>0.280000</td>\n",
       "      <td>0.190000</td>\n",
       "      <td>0.330000</td>\n",
       "    </tr>\n",
       "    <tr>\n",
       "      <th>max</th>\n",
       "      <td>56.000000</td>\n",
       "      <td>NaN</td>\n",
       "      <td>1.000000</td>\n",
       "      <td>1.000000</td>\n",
       "      <td>1.000000</td>\n",
       "      <td>1.000000</td>\n",
       "      <td>1.000000</td>\n",
       "      <td>1.000000</td>\n",
       "      <td>1.000000</td>\n",
       "      <td>1.000000</td>\n",
       "      <td>...</td>\n",
       "      <td>1.000000</td>\n",
       "      <td>1.000000</td>\n",
       "      <td>1.000000</td>\n",
       "      <td>1.000000</td>\n",
       "      <td>1.000000</td>\n",
       "      <td>1.000000</td>\n",
       "      <td>1.000000</td>\n",
       "      <td>1.000000</td>\n",
       "      <td>1.000000</td>\n",
       "      <td>1.000000</td>\n",
       "    </tr>\n",
       "  </tbody>\n",
       "</table>\n",
       "<p>11 rows × 100 columns</p>\n",
       "</div>"
      ],
      "text/plain": [
       "              state     communityname   population  householdsize  \\\n",
       "count   1994.000000              1994  1994.000000    1994.000000   \n",
       "unique          NaN              1828          NaN            NaN   \n",
       "top             NaN  Jacksonvillecity          NaN            NaN   \n",
       "freq            NaN                 5          NaN            NaN   \n",
       "mean      28.683551               NaN     0.057593       0.463395   \n",
       "std       16.397553               NaN     0.126906       0.163717   \n",
       "min        1.000000               NaN     0.000000       0.000000   \n",
       "25%       12.000000               NaN     0.010000       0.350000   \n",
       "50%       34.000000               NaN     0.020000       0.440000   \n",
       "75%       42.000000               NaN     0.050000       0.540000   \n",
       "max       56.000000               NaN     1.000000       1.000000   \n",
       "\n",
       "        racepctblack  racePctWhite  racePctAsian  racePctHisp  agePct12t21  \\\n",
       "count    1994.000000   1994.000000   1994.000000  1994.000000  1994.000000   \n",
       "unique           NaN           NaN           NaN          NaN          NaN   \n",
       "top              NaN           NaN           NaN          NaN          NaN   \n",
       "freq             NaN           NaN           NaN          NaN          NaN   \n",
       "mean        0.179629      0.753716      0.153681     0.144022     0.424218   \n",
       "std         0.253442      0.244039      0.208877     0.232492     0.155196   \n",
       "min         0.000000      0.000000      0.000000     0.000000     0.000000   \n",
       "25%         0.020000      0.630000      0.040000     0.010000     0.340000   \n",
       "50%         0.060000      0.850000      0.070000     0.040000     0.400000   \n",
       "75%         0.230000      0.940000      0.170000     0.160000     0.470000   \n",
       "max         1.000000      1.000000      1.000000     1.000000     1.000000   \n",
       "\n",
       "        agePct12t29         ...             NumStreet  PctForeignBorn  \\\n",
       "count   1994.000000         ...           1994.000000     1994.000000   \n",
       "unique          NaN         ...                   NaN             NaN   \n",
       "top             NaN         ...                   NaN             NaN   \n",
       "freq            NaN         ...                   NaN             NaN   \n",
       "mean       0.493867         ...              0.022778        0.215552   \n",
       "std        0.143564         ...              0.100400        0.231134   \n",
       "min        0.000000         ...              0.000000        0.000000   \n",
       "25%        0.410000         ...              0.000000        0.060000   \n",
       "50%        0.480000         ...              0.000000        0.130000   \n",
       "75%        0.540000         ...              0.000000        0.280000   \n",
       "max        1.000000         ...              1.000000        1.000000   \n",
       "\n",
       "        PctBornSameState  PctSameHouse85  PctSameCity85  PctSameState85  \\\n",
       "count        1994.000000     1994.000000    1994.000000     1994.000000   \n",
       "unique               NaN             NaN            NaN             NaN   \n",
       "top                  NaN             NaN            NaN             NaN   \n",
       "freq                 NaN             NaN            NaN             NaN   \n",
       "mean            0.608892        0.535050       0.626424        0.651530   \n",
       "std             0.204329        0.181352       0.200521        0.198221   \n",
       "min             0.000000        0.000000       0.000000        0.000000   \n",
       "25%             0.470000        0.420000       0.520000        0.560000   \n",
       "50%             0.630000        0.540000       0.670000        0.700000   \n",
       "75%             0.777500        0.660000       0.770000        0.790000   \n",
       "max             1.000000        1.000000       1.000000        1.000000   \n",
       "\n",
       "           LandArea      PopDens  PctUsePubTrans  ViolentCrimesPerPop  \n",
       "count   1994.000000  1994.000000     1994.000000          1994.000000  \n",
       "unique          NaN          NaN             NaN                  NaN  \n",
       "top             NaN          NaN             NaN                  NaN  \n",
       "freq            NaN          NaN             NaN                  NaN  \n",
       "mean       0.065231     0.232854        0.161685             0.237979  \n",
       "std        0.109459     0.203092        0.229055             0.232985  \n",
       "min        0.000000     0.000000        0.000000             0.000000  \n",
       "25%        0.020000     0.100000        0.020000             0.070000  \n",
       "50%        0.040000     0.170000        0.070000             0.150000  \n",
       "75%        0.070000     0.280000        0.190000             0.330000  \n",
       "max        1.000000     1.000000        1.000000             1.000000  \n",
       "\n",
       "[11 rows x 100 columns]"
      ]
     },
     "execution_count": 169,
     "metadata": {},
     "output_type": "execute_result"
    }
   ],
   "source": [
    "# display basic statistics\n",
    "communities_p.describe(include=\"all\")"
   ]
  },
  {
   "cell_type": "code",
   "execution_count": 170,
   "metadata": {
    "collapsed": false
   },
   "outputs": [
    {
     "data": {
      "text/html": [
       "<div>\n",
       "<table border=\"1\" class=\"dataframe\">\n",
       "  <thead>\n",
       "    <tr style=\"text-align: right;\">\n",
       "      <th></th>\n",
       "      <th>state</th>\n",
       "      <th>communityname</th>\n",
       "      <th>population</th>\n",
       "      <th>householdsize</th>\n",
       "      <th>racepctblack</th>\n",
       "      <th>racePctWhite</th>\n",
       "      <th>racePctAsian</th>\n",
       "      <th>racePctHisp</th>\n",
       "      <th>agePct12t21</th>\n",
       "      <th>agePct12t29</th>\n",
       "      <th>...</th>\n",
       "      <th>NumStreet</th>\n",
       "      <th>PctForeignBorn</th>\n",
       "      <th>PctBornSameState</th>\n",
       "      <th>PctSameHouse85</th>\n",
       "      <th>PctSameCity85</th>\n",
       "      <th>PctSameState85</th>\n",
       "      <th>LandArea</th>\n",
       "      <th>PopDens</th>\n",
       "      <th>PctUsePubTrans</th>\n",
       "      <th>ViolentCrimesPerPop</th>\n",
       "    </tr>\n",
       "  </thead>\n",
       "  <tbody>\n",
       "    <tr>\n",
       "      <th>130</th>\n",
       "      <td>28</td>\n",
       "      <td>Natchezcity</td>\n",
       "      <td>0.02</td>\n",
       "      <td>0.38</td>\n",
       "      <td>0.98</td>\n",
       "      <td>0.22</td>\n",
       "      <td>0.01</td>\n",
       "      <td>0.01</td>\n",
       "      <td>0.44</td>\n",
       "      <td>0.4</td>\n",
       "      <td>...</td>\n",
       "      <td>0</td>\n",
       "      <td>0.01</td>\n",
       "      <td>0.84</td>\n",
       "      <td>0.7</td>\n",
       "      <td>0.83</td>\n",
       "      <td>0.77</td>\n",
       "      <td>0.04</td>\n",
       "      <td>0.12</td>\n",
       "      <td>0.05</td>\n",
       "      <td>0.23</td>\n",
       "    </tr>\n",
       "  </tbody>\n",
       "</table>\n",
       "<p>1 rows × 100 columns</p>\n",
       "</div>"
      ],
      "text/plain": [
       "     state communityname  population  householdsize  racepctblack  \\\n",
       "130     28   Natchezcity        0.02           0.38          0.98   \n",
       "\n",
       "     racePctWhite  racePctAsian  racePctHisp  agePct12t21  agePct12t29  \\\n",
       "130          0.22          0.01         0.01         0.44          0.4   \n",
       "\n",
       "            ...           NumStreet  PctForeignBorn  PctBornSameState  \\\n",
       "130         ...                   0            0.01              0.84   \n",
       "\n",
       "     PctSameHouse85  PctSameCity85  PctSameState85  LandArea  PopDens  \\\n",
       "130             0.7           0.83            0.77      0.04     0.12   \n",
       "\n",
       "     PctUsePubTrans  ViolentCrimesPerPop  \n",
       "130            0.05                 0.23  \n",
       "\n",
       "[1 rows x 100 columns]"
      ]
     },
     "execution_count": 170,
     "metadata": {},
     "output_type": "execute_result"
    }
   ],
   "source": [
    "communities_p[communities_p.OtherPerCap.isnull()]"
   ]
  },
  {
   "cell_type": "code",
   "execution_count": 171,
   "metadata": {
    "collapsed": true
   },
   "outputs": [],
   "source": [
    "OtherPerCap_mean = communities_p.OtherPerCap.mean()\n",
    "communities_p.OtherPerCap.fillna(OtherPerCap_mean, axis=0, inplace=True)"
   ]
  },
  {
   "cell_type": "code",
   "execution_count": 172,
   "metadata": {
    "collapsed": false
   },
   "outputs": [],
   "source": [
    "communities_p = communities_p.drop(\"state\", 1)\n",
    "communities_p = communities_p.drop(\"communityname\",1)"
   ]
  },
  {
   "cell_type": "code",
   "execution_count": 173,
   "metadata": {
    "collapsed": false
   },
   "outputs": [
    {
     "data": {
      "text/plain": [
       "(1994, 98)"
      ]
     },
     "execution_count": 173,
     "metadata": {},
     "output_type": "execute_result"
    }
   ],
   "source": [
    "communities_p.shape"
   ]
  },
  {
   "cell_type": "code",
   "execution_count": 174,
   "metadata": {
    "collapsed": false
   },
   "outputs": [],
   "source": [
    "# seperate the target attribute for regression\n",
    "target = communities_p[\"ViolentCrimesPerPop\"]"
   ]
  },
  {
   "cell_type": "code",
   "execution_count": 175,
   "metadata": {
    "collapsed": false
   },
   "outputs": [
    {
     "data": {
      "text/plain": [
       "(1994L,)"
      ]
     },
     "execution_count": 175,
     "metadata": {},
     "output_type": "execute_result"
    }
   ],
   "source": [
    "y =np.array(target)\n",
    "y.shape"
   ]
  },
  {
   "cell_type": "code",
   "execution_count": 176,
   "metadata": {
    "collapsed": true
   },
   "outputs": [],
   "source": [
    "communities_p = communities_p.drop(\"ViolentCrimesPerPop\", 1)"
   ]
  },
  {
   "cell_type": "code",
   "execution_count": 177,
   "metadata": {
    "collapsed": false
   },
   "outputs": [
    {
     "name": "stdout",
     "output_type": "stream",
     "text": [
      "[[ 0.19  0.33  0.02 ...,  0.12  0.26  0.2 ]\n",
      " [ 0.    0.16  0.12 ...,  0.02  0.12  0.45]\n",
      " [ 0.    0.42  0.49 ...,  0.01  0.21  0.02]\n",
      " ..., \n",
      " [ 0.16  0.37  0.25 ...,  0.08  0.32  0.18]\n",
      " [ 0.08  0.51  0.06 ...,  0.03  0.38  0.33]\n",
      " [ 0.2   0.78  0.14 ...,  0.11  0.3   0.05]]\n"
     ]
    }
   ],
   "source": [
    "x = np.array(communities_p)\n",
    "print x"
   ]
  },
  {
   "cell_type": "markdown",
   "metadata": {},
   "source": [
    "# Question 1.b"
   ]
  },
  {
   "cell_type": "code",
   "execution_count": 178,
   "metadata": {
    "collapsed": false
   },
   "outputs": [],
   "source": [
    "from numpy import *\n",
    "\n",
    "def standRegres(xArr,yArr):\n",
    "    xMat = mat(xArr); yMat = mat(yArr).T\n",
    "    xTx = xMat.T*xMat\n",
    "    if linalg.det(xTx) == 0.0:\n",
    "        print (\"This matrix is singular, cannot do inverse\")\n",
    "        return\n",
    "    ws = xTx.I * (xMat.T*yMat)\n",
    "    return ws\n",
    "\n",
    "\n",
    "names = communities_p.columns.values"
   ]
  },
  {
   "cell_type": "code",
   "execution_count": 179,
   "metadata": {
    "collapsed": false
   },
   "outputs": [
    {
     "data": {
      "text/plain": [
       "matrix([[ 0.12],\n",
       "        [-0.03],\n",
       "        [ 0.24],\n",
       "        [-0.  ],\n",
       "        [ 0.01]])"
      ]
     },
     "execution_count": 179,
     "metadata": {},
     "output_type": "execute_result"
    }
   ],
   "source": [
    "# standard linear regression on data \n",
    "linreg = standRegres(x,y)\n",
    "linreg[0:5]"
   ]
  },
  {
   "cell_type": "code",
   "execution_count": 180,
   "metadata": {
    "collapsed": false
   },
   "outputs": [
    {
     "data": {
      "text/plain": [
       "LinearRegression(copy_X=True, fit_intercept=True, n_jobs=1, normalize=False)"
      ]
     },
     "execution_count": 180,
     "metadata": {},
     "output_type": "execute_result"
    }
   ],
   "source": [
    "# Create linear regression object\n",
    "linreg = LinearRegression()\n",
    "\n",
    "# Train the model using the training sets\n",
    "linreg.fit(x,y)"
   ]
  },
  {
   "cell_type": "code",
   "execution_count": 181,
   "metadata": {
    "collapsed": false
   },
   "outputs": [
    {
     "name": "stdout",
     "output_type": "stream",
     "text": [
      "0.128889607798\n"
     ]
    }
   ],
   "source": [
    "# RMSE value on the full training data.\n",
    "\n",
    "# Compute RMSE on training data\n",
    "p = linreg.predict(x)\n",
    "# Now we can constuct a vector of errors\n",
    "err = abs(p-y)\n",
    "\n",
    "# Dot product of error vector with itself gives us the sum of squared errors\n",
    "total_error = np.dot(err,err)\n",
    "# Compute RMSE\n",
    "rmse_train = np.sqrt(total_error/len(p))\n",
    "print (rmse_train)"
   ]
  },
  {
   "cell_type": "code",
   "execution_count": 182,
   "metadata": {
    "collapsed": false
   },
   "outputs": [
    {
     "name": "stdout",
     "output_type": "stream",
     "text": [
      "[ 0.03  0.38  0.05 ...,  0.17  0.02  0.11]\n"
     ]
    }
   ],
   "source": [
    "#correlation between predicted and actual\n",
    "err = abs(p-y)\n",
    "print(err)"
   ]
  },
  {
   "cell_type": "code",
   "execution_count": 183,
   "metadata": {
    "collapsed": false
   },
   "outputs": [
    {
     "data": {
      "image/png": "iVBORw0KGgoAAAANSUhEUgAAAZAAAAEZCAYAAAC5AHPcAAAABHNCSVQICAgIfAhkiAAAAAlwSFlz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\nx3Hy4v8DkKMiIa7M6GEAAAAASUVORK5CYII=\n",
      "text/plain": [
       "<matplotlib.figure.Figure at 0xbf9d5c0>"
      ]
     },
     "metadata": {},
     "output_type": "display_data"
    }
   ],
   "source": [
    "# Plot outputs\n",
    "%matplotlib inline\n",
    "\n",
    "pl.plot(p, y, 'bo')\n",
    "pl.plot([-0.1,1.2],[-0.1,1.2], 'r-')\n",
    "pl.xlabel('predicted')\n",
    "pl.ylabel('real')\n",
    "pl.title(\"Correlation between Predicted and Actual\")\n",
    "pl.show()"
   ]
  },
  {
   "cell_type": "code",
   "execution_count": 184,
   "metadata": {
    "collapsed": false
   },
   "outputs": [
    {
     "name": "stdout",
     "output_type": "stream",
     "text": [
      "('Regression Coefficients: \\n', array([ 0.13, -0.03,  0.21, -0.04, -0.01,  0.06,  0.12, -0.22, -0.15,  0.05, -0.24,  0.05, -0.2 ,\n",
      "       -0.21,  0.05, -0.18,  0.06,  0.01, -0.09,  0.27,  0.1 , -0.33, -0.03, -0.04,  0.02,  0.04,\n",
      "        0.03,  0.13, -0.19, -0.1 ,  0.06,  0.11,  0.  ,  0.23, -0.04, -0.01,  0.47,  0.23,  0.17,\n",
      "       -0.58, -0.14,  0.06, -0.35, -0.03,  0.  ,  0.06, -0.18, -0.15,  0.13, -0.14,  0.02,  0.03,\n",
      "       -0.07,  0.04, -0.03, -0.22,  0.45, -0.2 , -0.03, -0.14,  0.06, -0.21,  0.65, -0.08, -0.25,\n",
      "       -0.67,  0.2 ,  0.1 ,  0.03,  0.17, -0.04,  0.55,  0.05, -0.08, -0.03,  0.01, -0.01, -0.35,\n",
      "        0.27,  0.01, -0.24, -0.03, -0.07,  0.37,  0.04, -0.04, -0.08,  0.13,  0.18,  0.13,  0.  ,\n",
      "       -0.02,  0.03,  0.01,  0.03, -0.01, -0.04]))\n"
     ]
    }
   ],
   "source": [
    "# regression coefficients(weights)\n",
    "\n",
    "print ('Regression Coefficients: \\n', linreg.coef_)"
   ]
  },
  {
   "cell_type": "code",
   "execution_count": 185,
   "metadata": {
    "collapsed": false
   },
   "outputs": [
    {
     "data": {
      "text/plain": [
       "0.13633307923268351"
      ]
     },
     "execution_count": 185,
     "metadata": {},
     "output_type": "execute_result"
    }
   ],
   "source": [
    "# 10-fold cross validation - RMSE\n",
    "from sklearn.cross_validation import KFold\n",
    "kfold = KFold(len(x), n_folds=10)\n",
    "kfold\n",
    "xval_err = 0\n",
    "for train,test in kfold:\n",
    "    linreg.fit(x[train],y[train])\n",
    "    # p = np.array([linreg.predict(xi) for xi in x[test]])\n",
    "    p = linreg.predict(x[test])\n",
    "    e = p-y[test]\n",
    "    xval_err += np.dot(e,e)\n",
    "    \n",
    "rmse_10cv = np.sqrt(xval_err/len(x))\n",
    "rmse_10cv"
   ]
  },
  {
   "cell_type": "code",
   "execution_count": 186,
   "metadata": {
    "collapsed": false
   },
   "outputs": [
    {
     "name": "stdout",
     "output_type": "stream",
     "text": [
      "Method: Simple Linear Regression\n",
      "RMSE on training: 0.1289\n",
      "RMSE on 10-fold CV: 0.1363\n"
     ]
    }
   ],
   "source": [
    "method_name = 'Simple Linear Regression'\n",
    "print('Method: %s' %method_name)\n",
    "print('RMSE on training: %.4f' %rmse_train)\n",
    "print('RMSE on 10-fold CV: %.4f' %rmse_10cv)"
   ]
  },
  {
   "cell_type": "markdown",
   "metadata": {
    "collapsed": false
   },
   "source": [
    "# Question 1.c"
   ]
  },
  {
   "cell_type": "code",
   "execution_count": 187,
   "metadata": {
    "collapsed": true
   },
   "outputs": [],
   "source": [
    "import matplotlib.pyplot as plt\n",
    "from sklearn import feature_selection"
   ]
  },
  {
   "cell_type": "code",
   "execution_count": 188,
   "metadata": {
    "collapsed": false
   },
   "outputs": [
    {
     "name": "stdout",
     "output_type": "stream",
     "text": [
      "(1, -0.11407909224209822)\n",
      "(6, -0.10115189540032909)\n",
      "(11, -0.10108738571229883)\n",
      "(16, -0.10104480961876861)\n",
      "(21, -0.098864245135305617)\n",
      "(26, -0.097439427080409508)\n",
      "(31, -0.096461600504918962)\n",
      "(36, -0.095696779859370612)\n",
      "(41, -0.095812189762866304)\n",
      "(46, -0.09641184981816639)\n",
      "(51, -0.096554855769564463)\n",
      "(56, -0.096867778758093451)\n",
      "(61, -0.097556703614274348)\n",
      "(66, -0.097791603305580607)\n",
      "(71, -0.098093076767346993)\n",
      "(76, -0.098013188024843698)\n",
      "(81, -0.097675528520498434)\n",
      "(86, -0.09712189615931896)\n",
      "(91, -0.097455027258008184)\n",
      "(96, -0.096866957445461005)\n",
      "('Optimal percentile of features:36', '\\n')\n",
      "('Optimal number of features:34', '\\n')\n"
     ]
    }
   ],
   "source": [
    "# feature selection on most important features\n",
    "\n",
    "from sklearn import cross_validation\n",
    "reg = LinearRegression()\n",
    "percentiles = range(1, 100, 5)\n",
    "results = []\n",
    "for i in range(1, 100, 5):\n",
    "    fs = feature_selection.SelectPercentile(feature_selection.f_regression, percentile=i)\n",
    "    X_train_fs = fs.fit_transform(x, y)\n",
    "    \n",
    "    scores = cross_validation.cross_val_score(reg, X_train_fs, y, cv=5, scoring='mean_absolute_error')\n",
    "    print (i,scores.mean())\n",
    "    results = np.append(results, scores.mean())\n",
    "\n",
    "optimal_percentil = percentiles[np.where(results == results.max())[0][0]]\n",
    "print (\"Optimal percentile of features:{0}\".format(optimal_percentil), \"\\n\")\n",
    "\n",
    "optimal_num_features = int(floor(optimal_percentil*len(x.T)/100))\n",
    "print (\"Optimal number of features:{0}\".format(optimal_num_features), \"\\n\")"
   ]
  },
  {
   "cell_type": "code",
   "execution_count": 189,
   "metadata": {
    "collapsed": false
   },
   "outputs": [
    {
     "name": "stdout",
     "output_type": "stream",
     "text": [
      "('population', '= \\t', 310.36991877949015)\n",
      "('racepctblack', '= \\t', 1319.6864331393167)\n",
      "('racePctWhite', '= \\t', 1758.7722734699032)\n",
      "('numbUrban', '= \\t', 302.12358081965772)\n",
      "('medIncome', '= \\t', 437.15907430047844)\n",
      "('pctWInvInc', '= \\t', 990.70097465077038)\n",
      "('pctWPubAsst', '= \\t', 982.20046789179719)\n",
      "('medFamInc', '= \\t', 475.83760176336301)\n",
      "('perCapInc', '= \\t', 281.87826488529373)\n",
      "('NumUnderPov', '= \\t', 499.02544864493228)\n",
      "('PctPopUnderPov', '= \\t', 745.5991594323167)\n",
      "('PctLess9thGrade', '= \\t', 405.11053195132661)\n",
      "('PctNotHSGrad', '= \\t', 607.30932519004296)\n",
      "('PctUnemployed', '= \\t', 679.14566049267125)\n",
      "('MalePctDivorce', '= \\t', 759.58193745686265)\n",
      "('FemalePctDiv', '= \\t', 891.49402467329116)\n",
      "('TotalPctDiv', '= \\t', 876.51008595127303)\n",
      "('PctFam2Par', '= \\t', 1987.0573102260273)\n",
      "('PctKids2Par', '= \\t', 2388.6186880887039)\n",
      "('PctYoungKids2Par', '= \\t', 1588.3798603597677)\n",
      "('PctTeen2Par', '= \\t', 1550.5316363651339)\n",
      "('NumIlleg', '= \\t', 567.9753603349975)\n",
      "('PctIlleg', '= \\t', 2381.9832003527995)\n",
      "('PctLargHouseFam', '= \\t', 343.44248051349649)\n",
      "('PctPersOwnOccup', '= \\t', 759.91693738266406)\n",
      "('PctPersDenseHous', '= \\t', 514.03622448079363)\n",
      "('PctHousLess3BR', '= \\t', 578.78919787510426)\n",
      "('MedNumBR', '= \\t', 291.68047118391922)\n",
      "('HousVacant', '= \\t', 430.10364213839864)\n",
      "('PctHousOwnOcc', '= \\t', 566.90524041144226)\n",
      "('PctVacantBoarded', '= \\t', 605.50791654914315)\n",
      "('PctHousNoPhone', '= \\t', 623.48326356730513)\n",
      "('PctWOFullPlumb', '= \\t', 305.11859038400661)\n",
      "('NumInShelters', '= \\t', 327.49178962054498)\n",
      "('NumStreet', '= \\t', 260.85415299517223)\n"
     ]
    }
   ],
   "source": [
    "# most important features and their weights\n",
    "from sklearn import feature_selection\n",
    "\n",
    "fs = feature_selection.SelectPercentile(feature_selection.f_regression, percentile=optimal_percentil)\n",
    "x_train_fs = fs.fit_transform(x, y)\n",
    "\n",
    "np.set_printoptions(suppress=True, precision=2, linewidth=100)\n",
    "for i in range(len(names)):\n",
    "    if fs.get_support()[i]:\n",
    "        print (names[i],'= \\t', fs.scores_[i])"
   ]
  },
  {
   "cell_type": "code",
   "execution_count": 190,
   "metadata": {
    "collapsed": false
   },
   "outputs": [
    {
     "data": {
      "image/png": "iVBORw0KGgoAAAANSUhEUgAAAZYAAAEZCAYAAAC0HgObAAAABHNCSVQICAgIfAhkiAAAAAlwSFlz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\nlQOLmZlV1f8Hqn1dSJ4BlzcAAAAASUVORK5CYII=\n",
      "text/plain": [
       "<matplotlib.figure.Figure at 0x42ce6d8>"
      ]
     },
     "metadata": {},
     "output_type": "display_data"
    }
   ],
   "source": [
    "#plotting the graph of the mean absolte error\n",
    "\n",
    "import matplotlib.pyplot as plt\n",
    "%matplotlib inline\n",
    "\n",
    "plt.xlabel(\"Percentage\")\n",
    "plt.ylabel(\"Mean Absolute Error on CV at 5\")\n",
    "plt.title('Mean Absolute Error on against the Percentage')\n",
    "\n",
    "plt.plot(percentiles,abs(results), lw=2)\n",
    "plt.show()"
   ]
  },
  {
   "cell_type": "markdown",
   "metadata": {},
   "source": [
    "# Question 1.d"
   ]
  },
  {
   "cell_type": "code",
   "execution_count": 191,
   "metadata": {
    "collapsed": true
   },
   "outputs": [],
   "source": [
    "from sklearn.cross_validation  import train_test_split\n",
    "x_train, x_test, y_train, y_test = train_test_split(x, y, test_size=0.2, random_state=33)"
   ]
  },
  {
   "cell_type": "code",
   "execution_count": 192,
   "metadata": {
    "collapsed": false
   },
   "outputs": [
    {
     "name": "stdout",
     "output_type": "stream",
     "text": [
      "Ridge Regression\n",
      "alpha\t RMSE_train\t RMSE_10cv\n",
      "\n",
      "0.001\t 0.1262\t\t 0.1203\n",
      "0.153\t 0.1264\t\t 0.1197\n",
      "0.304\t 0.1267\t\t 0.1196\n",
      "0.456\t 0.1269\t\t 0.1195\n",
      "0.607\t 0.1270\t\t 0.1195\n",
      "0.759\t 0.1272\t\t 0.1194\n",
      "0.910\t 0.1273\t\t 0.1194\n",
      "1.062\t 0.1275\t\t 0.1194\n",
      "1.213\t 0.1276\t\t 0.1194\n",
      "1.365\t 0.1277\t\t 0.1194\n",
      "1.516\t 0.1278\t\t 0.1195\n",
      "1.668\t 0.1279\t\t 0.1195\n",
      "1.819\t 0.1280\t\t 0.1195\n",
      "1.971\t 0.1281\t\t 0.1195\n",
      "2.122\t 0.1282\t\t 0.1195\n",
      "2.274\t 0.1283\t\t 0.1195\n",
      "2.425\t 0.1284\t\t 0.1196\n",
      "2.577\t 0.1284\t\t 0.1196\n",
      "2.728\t 0.1285\t\t 0.1196\n",
      "2.880\t 0.1286\t\t 0.1196\n",
      "3.031\t 0.1287\t\t 0.1196\n",
      "3.183\t 0.1287\t\t 0.1196\n",
      "3.334\t 0.1288\t\t 0.1197\n",
      "3.486\t 0.1288\t\t 0.1197\n",
      "3.637\t 0.1289\t\t 0.1197\n",
      "3.789\t 0.1290\t\t 0.1197\n",
      "3.940\t 0.1290\t\t 0.1197\n",
      "4.092\t 0.1291\t\t 0.1197\n",
      "4.243\t 0.1291\t\t 0.1198\n",
      "4.395\t 0.1292\t\t 0.1198\n",
      "4.546\t 0.1292\t\t 0.1198\n",
      "4.698\t 0.1293\t\t 0.1198\n",
      "4.849\t 0.1293\t\t 0.1198\n",
      "5.001\t 0.1294\t\t 0.1198\n",
      "5.152\t 0.1294\t\t 0.1199\n",
      "5.304\t 0.1295\t\t 0.1199\n",
      "5.455\t 0.1295\t\t 0.1199\n",
      "5.607\t 0.1296\t\t 0.1199\n",
      "5.758\t 0.1296\t\t 0.1199\n",
      "5.910\t 0.1297\t\t 0.1199\n",
      "6.061\t 0.1297\t\t 0.1199\n",
      "6.213\t 0.1298\t\t 0.1200\n",
      "6.364\t 0.1298\t\t 0.1200\n",
      "6.516\t 0.1298\t\t 0.1200\n",
      "6.667\t 0.1299\t\t 0.1200\n",
      "6.819\t 0.1299\t\t 0.1200\n",
      "6.970\t 0.1299\t\t 0.1200\n",
      "7.122\t 0.1300\t\t 0.1200\n",
      "7.273\t 0.1300\t\t 0.1201\n",
      "7.425\t 0.1301\t\t 0.1201\n",
      "7.576\t 0.1301\t\t 0.1201\n",
      "7.728\t 0.1301\t\t 0.1201\n",
      "7.879\t 0.1302\t\t 0.1201\n",
      "8.031\t 0.1302\t\t 0.1201\n",
      "8.182\t 0.1302\t\t 0.1201\n",
      "8.334\t 0.1303\t\t 0.1201\n",
      "8.485\t 0.1303\t\t 0.1202\n",
      "8.637\t 0.1303\t\t 0.1202\n",
      "8.788\t 0.1304\t\t 0.1202\n",
      "8.940\t 0.1304\t\t 0.1202\n",
      "9.091\t 0.1304\t\t 0.1202\n",
      "9.243\t 0.1304\t\t 0.1202\n",
      "9.394\t 0.1305\t\t 0.1202\n",
      "9.546\t 0.1305\t\t 0.1202\n",
      "9.697\t 0.1305\t\t 0.1203\n",
      "9.849\t 0.1306\t\t 0.1203\n",
      "10.000\t 0.1306\t\t 0.1203\n",
      "10.152\t 0.1306\t\t 0.1203\n",
      "10.303\t 0.1306\t\t 0.1203\n",
      "10.455\t 0.1307\t\t 0.1203\n",
      "10.606\t 0.1307\t\t 0.1203\n",
      "10.758\t 0.1307\t\t 0.1203\n",
      "10.909\t 0.1308\t\t 0.1203\n",
      "11.061\t 0.1308\t\t 0.1204\n",
      "11.212\t 0.1308\t\t 0.1204\n",
      "11.364\t 0.1308\t\t 0.1204\n",
      "11.515\t 0.1309\t\t 0.1204\n",
      "11.667\t 0.1309\t\t 0.1204\n",
      "11.818\t 0.1309\t\t 0.1204\n",
      "11.970\t 0.1309\t\t 0.1204\n",
      "12.121\t 0.1310\t\t 0.1204\n",
      "12.273\t 0.1310\t\t 0.1204\n",
      "12.424\t 0.1310\t\t 0.1204\n",
      "12.576\t 0.1310\t\t 0.1205\n",
      "12.727\t 0.1310\t\t 0.1205\n",
      "12.879\t 0.1311\t\t 0.1205\n",
      "13.030\t 0.1311\t\t 0.1205\n",
      "13.182\t 0.1311\t\t 0.1205\n",
      "13.333\t 0.1311\t\t 0.1205\n",
      "13.485\t 0.1312\t\t 0.1205\n",
      "13.636\t 0.1312\t\t 0.1205\n",
      "13.788\t 0.1312\t\t 0.1205\n",
      "13.939\t 0.1312\t\t 0.1205\n",
      "14.091\t 0.1312\t\t 0.1206\n",
      "14.242\t 0.1313\t\t 0.1206\n",
      "14.394\t 0.1313\t\t 0.1206\n",
      "14.545\t 0.1313\t\t 0.1206\n",
      "14.697\t 0.1313\t\t 0.1206\n",
      "14.848\t 0.1314\t\t 0.1206\n",
      "15.000\t 0.1314\t\t 0.1206\n",
      "0.91003030303\n"
     ]
    }
   ],
   "source": [
    "# ridge regression\n",
    "\n",
    "print('Ridge Regression')\n",
    "print('alpha\\t RMSE_train\\t RMSE_10cv\\n')\n",
    "alpha = np.linspace(.001,15,100)\n",
    "t_rmse = np.array([])\n",
    "cv_rmse = np.array([])\n",
    "\n",
    "for a in alpha:\n",
    "    ridge = Ridge(fit_intercept=True, alpha=a)\n",
    "    \n",
    "    # computing the RMSE on training data\n",
    "    ridge.fit(x_train,y_train)\n",
    "    p = ridge.predict(x_train)\n",
    "    err = p-y_train\n",
    "    total_error = np.dot(err,err)\n",
    "    rmse_train = np.sqrt(total_error/len(p))\n",
    "\n",
    "    # computing RMSE using 10-fold cross validation\n",
    "    kf = KFold(len(x_train), n_folds=10)\n",
    "    xval_err = 0\n",
    "    for train, test in kf:\n",
    "        ridge.fit(x_train[train], y_train[train])\n",
    "        p = ridge.predict(x_train[test])\n",
    "        err = p - y_train[test]\n",
    "        xval_err += np.dot(err,err)\n",
    "    rmse_10cv = np.sqrt(xval_err/len(x))\n",
    "    \n",
    "    t_rmse = np.append(t_rmse, [rmse_train])\n",
    "    cv_rmse = np.append(cv_rmse, [rmse_10cv])\n",
    "    print('{:.3f}\\t {:.4f}\\t\\t {:.4f}'.format(a,rmse_train,rmse_10cv))\n",
    "answer = alpha[np.where(cv_rmse == min(cv_rmse))[0][0]]\n",
    "print(answer)\n",
    "\n",
    "# the best alpha value (lowest RMSE_10cv) is 0.91"
   ]
  },
  {
   "cell_type": "code",
   "execution_count": 193,
   "metadata": {
    "collapsed": false
   },
   "outputs": [
    {
     "data": {
      "image/png": "iVBORw0KGgoAAAANSUhEUgAAAZMAAAEZCAYAAABSN8jfAAAABHNCSVQICAgIfAhkiAAAAAlwSFlz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\n",
      "text/plain": [
       "<matplotlib.figure.Figure at 0x3b7d8f60>"
      ]
     },
     "metadata": {},
     "output_type": "display_data"
    }
   ],
   "source": [
    "pl.plot(alpha, t_rmse, label='RMSE-Train')\n",
    "pl.plot(alpha, cv_rmse, label='RMSE_XVal')\n",
    "pl.legend( ('RMSE-Train', 'RMSE_XVal') )\n",
    "pl.ylabel('RMSE')\n",
    "pl.xlabel('Alpha')\n",
    "pl.title('Ridge Regression - Alpha value against the RMSE')\n",
    "pl.show()"
   ]
  },
  {
   "cell_type": "code",
   "execution_count": 194,
   "metadata": {
    "collapsed": false
   },
   "outputs": [
    {
     "name": "stdout",
     "output_type": "stream",
     "text": [
      "Lasso Regression\n",
      "alpha\t RMSE_train\t RMSE_10cv\n",
      "\n",
      "0.010\t 0.1520\t\t 0.1363\n",
      "0.418\t 0.2312\t\t 0.2068\n",
      "0.826\t 0.2312\t\t 0.2068\n",
      "1.234\t 0.2312\t\t 0.2068\n",
      "1.642\t 0.2312\t\t 0.2068\n",
      "2.050\t 0.2312\t\t 0.2068\n",
      "2.458\t 0.2312\t\t 0.2068\n",
      "2.866\t 0.2312\t\t 0.2068\n",
      "3.274\t 0.2312\t\t 0.2068\n",
      "3.682\t 0.2312\t\t 0.2068\n",
      "4.090\t 0.2312\t\t 0.2068\n",
      "4.498\t 0.2312\t\t 0.2068\n",
      "4.906\t 0.2312\t\t 0.2068\n",
      "5.313\t 0.2312\t\t 0.2068\n",
      "5.721\t 0.2312\t\t 0.2068\n",
      "6.129\t 0.2312\t\t 0.2068\n",
      "6.537\t 0.2312\t\t 0.2068\n",
      "6.945\t 0.2312\t\t 0.2068\n",
      "7.353\t 0.2312\t\t 0.2068\n",
      "7.761\t 0.2312\t\t 0.2068\n",
      "8.169\t 0.2312\t\t 0.2068\n",
      "8.577\t 0.2312\t\t 0.2068\n",
      "8.985\t 0.2312\t\t 0.2068\n",
      "9.393\t 0.2312\t\t 0.2068\n",
      "9.801\t 0.2312\t\t 0.2068\n",
      "10.209\t 0.2312\t\t 0.2068\n",
      "10.617\t 0.2312\t\t 0.2068\n",
      "11.025\t 0.2312\t\t 0.2068\n",
      "11.433\t 0.2312\t\t 0.2068\n",
      "11.841\t 0.2312\t\t 0.2068\n",
      "12.249\t 0.2312\t\t 0.2068\n",
      "12.657\t 0.2312\t\t 0.2068\n",
      "13.065\t 0.2312\t\t 0.2068\n",
      "13.473\t 0.2312\t\t 0.2068\n",
      "13.881\t 0.2312\t\t 0.2068\n",
      "14.289\t 0.2312\t\t 0.2068\n",
      "14.697\t 0.2312\t\t 0.2068\n",
      "15.104\t 0.2312\t\t 0.2068\n",
      "15.512\t 0.2312\t\t 0.2068\n",
      "15.920\t 0.2312\t\t 0.2068\n",
      "16.328\t 0.2312\t\t 0.2068\n",
      "16.736\t 0.2312\t\t 0.2068\n",
      "17.144\t 0.2312\t\t 0.2068\n",
      "17.552\t 0.2312\t\t 0.2068\n",
      "17.960\t 0.2312\t\t 0.2068\n",
      "18.368\t 0.2312\t\t 0.2068\n",
      "18.776\t 0.2312\t\t 0.2068\n",
      "19.184\t 0.2312\t\t 0.2068\n",
      "19.592\t 0.2312\t\t 0.2068\n",
      "20.000\t 0.2312\t\t 0.2068\n",
      "0.01\n"
     ]
    }
   ],
   "source": [
    "# lasso regression\n",
    "\n",
    "print('Lasso Regression')\n",
    "print('alpha\\t RMSE_train\\t RMSE_10cv\\n')\n",
    "alpha = np.linspace(.01,20,50)\n",
    "t_rmse = np.array([])\n",
    "cv_rmse = np.array([])\n",
    "\n",
    "\n",
    "for a in alpha:\n",
    "    lasso = Lasso(fit_intercept=True, alpha=a)\n",
    "    \n",
    "    # computing the RMSE on training data\n",
    "    lasso.fit(x_train,y_train)\n",
    "    p = lasso.predict(x_train)\n",
    "    err = p-y_train\n",
    "    total_error = np.dot(err,err)\n",
    "    rmse_train = np.sqrt(total_error/len(p))\n",
    "\n",
    "    # computing RMSE using 10-fold cross validation\n",
    "    kf = KFold(len(x_train), n_folds=10)\n",
    "    xval_err = 0\n",
    "    for train, test in kf:\n",
    "        lasso.fit(x_train[train], y_train[train])\n",
    "        p = lasso.predict(x_train[test])\n",
    "        err = p - y_train[test]\n",
    "        xval_err += np.dot(err,err)\n",
    "    rmse_10cv = np.sqrt(xval_err/len(x))\n",
    "    \n",
    "    t_rmse = np.append(t_rmse, [rmse_train])\n",
    "    cv_rmse = np.append(cv_rmse, [rmse_10cv])\n",
    "    print('{:.3f}\\t {:.4f}\\t\\t {:.4f}'.format(a,rmse_train,rmse_10cv))\n",
    "    \n",
    "answer = alpha[np.where(cv_rmse == min(cv_rmse))[0][0]]\n",
    "print(answer)\n",
    "\n",
    "# the best alpha value (lowest RMSE_10cv) is 0.01"
   ]
  },
  {
   "cell_type": "code",
   "execution_count": 195,
   "metadata": {
    "collapsed": false
   },
   "outputs": [
    {
     "data": {
      "image/png": "iVBORw0KGgoAAAANSUhEUgAAAYwAAAEZCAYAAACEkhK6AAAABHNCSVQICAgIfAhkiAAAAAlwSFlz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\n/AeEIEE0dAAAAABJRU5ErkJggg==\n",
      "text/plain": [
       "<matplotlib.figure.Figure at 0x27b82dd8>"
      ]
     },
     "metadata": {},
     "output_type": "display_data"
    }
   ],
   "source": [
    "pl.plot(alpha, t_rmse, label='RMSE-Train')\n",
    "pl.plot(alpha, cv_rmse, label='RMSE_XVal')\n",
    "pl.legend( ('RMSE-Train', 'RMSE_XVal') )\n",
    "pl.ylabel('RMSE')\n",
    "pl.xlabel('Alpha')\n",
    "pl.title('Lasso Regression - Alpha value against the RMSE')\n",
    "pl.show()"
   ]
  },
  {
   "cell_type": "markdown",
   "metadata": {},
   "source": [
    "# Question 1.e"
   ]
  },
  {
   "cell_type": "code",
   "execution_count": 196,
   "metadata": {
    "collapsed": true
   },
   "outputs": [],
   "source": [
    "from sklearn.preprocessing import StandardScaler"
   ]
  },
  {
   "cell_type": "code",
   "execution_count": 200,
   "metadata": {
    "collapsed": true
   },
   "outputs": [],
   "source": [
    "from sklearn.cross_validation  import train_test_split\n",
    "x_train, x_test, y_train, y_test = train_test_split(x, y, test_size=0.2, random_state=33)"
   ]
  },
  {
   "cell_type": "code",
   "execution_count": 202,
   "metadata": {
    "collapsed": false
   },
   "outputs": [
    {
     "name": "stdout",
     "output_type": "stream",
     "text": [
      "Method: Stochastic Gradient Descent Regression\n",
      "RMSE on training: 0.1335\n",
      "RMSE on 10-fold CV: 0.1370\n"
     ]
    }
   ],
   "source": [
    "scaler = StandardScaler()\n",
    "scaler.fit(x)\n",
    "x_t = scaler.transform(x)\n",
    "\n",
    "sgdreg = SGDRegressor(penalty='l2', alpha=0.15, n_iter=100)\n",
    "\n",
    "# Compute RMSE on training data\n",
    "sgdreg.fit(x_t,y)\n",
    "p = sgdreg.predict(x_t)\n",
    "err = p-y\n",
    "total_error = np.dot(err,err)\n",
    "rmse_train = np.sqrt(total_error/len(p))\n",
    "\n",
    "# Compute RMSE using 10-fold x-validation\n",
    "kf = KFold(len(x), n_folds=10)\n",
    "xval_err = 0\n",
    "for train,test in kf:\n",
    "    scaler = StandardScaler()\n",
    "    scaler.fit(x[train]) \n",
    "    xtrain_s = scaler.transform(x[train])\n",
    "    xtest_s = scaler.transform(x[test]) \n",
    "    sgdreg.fit(xtrain_s,y[train])\n",
    "    p = sgdreg.predict(xtest_s)\n",
    "    e = p-y[test]\n",
    "    xval_err += np.dot(e,e)\n",
    "rmse_10cv = np.sqrt(xval_err/len(x))\n",
    "\n",
    "method_name = 'Stochastic Gradient Descent Regression'\n",
    "print('Method: %s' %method_name)\n",
    "print('RMSE on training: %.4f' %rmse_train)\n",
    "print('RMSE on 10-fold CV: %.4f' %rmse_10cv)"
   ]
  },
  {
   "cell_type": "code",
   "execution_count": 203,
   "metadata": {
    "collapsed": false
   },
   "outputs": [
    {
     "name": "stdout",
     "output_type": "stream",
     "text": [
      "Accuracy on Training cv: 0.634\n",
      "Accuracy on Testing cv: 0.555\n"
     ]
    }
   ],
   "source": [
    "sgdreg = SGDRegressor()\n",
    "scores = cross_validation.cross_val_score(sgdreg, x_train, y_train, cv=10)\n",
    "print (\"Accuracy on Training cv: {0:.3f}\".format(scores.mean()))\n",
    "scores1 = cross_validation.cross_val_score(sgdreg, x_test, y_test, cv=10)\n",
    "print (\"Accuracy on Testing cv: {0:.3f}\".format(scores1.mean()))"
   ]
  },
  {
   "cell_type": "code",
   "execution_count": 204,
   "metadata": {
    "collapsed": true
   },
   "outputs": [],
   "source": [
    "#grid-search\n",
    "\n",
    "from sklearn.grid_search import GridSearchCV"
   ]
  },
  {
   "cell_type": "code",
   "execution_count": 205,
   "metadata": {
    "collapsed": true
   },
   "outputs": [],
   "source": [
    "scaler = StandardScaler()\n",
    "\n",
    "scaler.fit(x_train)\n",
    "x_t = scaler.transform(x_train)\n",
    "\n",
    "new1 = np.array(y_train).reshape(len(y_train),)\n",
    "\n",
    "scaler.fit(new1)\n",
    "y_t = scaler.transform(new1)"
   ]
  },
  {
   "cell_type": "code",
   "execution_count": 206,
   "metadata": {
    "collapsed": true
   },
   "outputs": [],
   "source": [
    "alpha_rg = np.linspace(0.15, 100, 100)\n",
    "penalty_rg = ['l1', 'l2']\n",
    "\n",
    "parameters = {\n",
    "    'penalty': penalty_rg,\n",
    "    'alpha' : alpha_rg}\n",
    "\n",
    "sgdreg2 = SGDRegressor()\n",
    "\n",
    "gs = GridSearchCV(sgdreg2, parameters, cv=5)"
   ]
  },
  {
   "cell_type": "code",
   "execution_count": 207,
   "metadata": {
    "collapsed": false
   },
   "outputs": [
    {
     "data": {
      "text/plain": [
       "GridSearchCV(cv=5, error_score='raise',\n",
       "       estimator=SGDRegressor(alpha=0.0001, average=False, epsilon=0.1, eta0=0.01,\n",
       "       fit_intercept=True, l1_ratio=0.15, learning_rate='invscaling',\n",
       "       loss='squared_loss', n_iter=5, penalty='l2', power_t=0.25,\n",
       "       random_state=None, shuffle=True, verbose=0, warm_start=False),\n",
       "       fit_params={}, iid=True, loss_func=None, n_jobs=1,\n",
       "       param_grid={'penalty': ['l1', 'l2'], 'alpha': array([   0.15   ,    1.15859, ...,   98.99141,  100.     ])},\n",
       "       pre_dispatch='2*n_jobs', refit=True, score_func=None, scoring=None,\n",
       "       verbose=0)"
      ]
     },
     "execution_count": 207,
     "metadata": {},
     "output_type": "execute_result"
    }
   ],
   "source": [
    "gs.fit(x_t,y_t)"
   ]
  },
  {
   "cell_type": "code",
   "execution_count": 208,
   "metadata": {
    "collapsed": false
   },
   "outputs": [
    {
     "data": {
      "text/plain": [
       "({'alpha': 0.14999999999999999, 'penalty': 'l2'}, 0.64072309493271062)"
      ]
     },
     "execution_count": 208,
     "metadata": {},
     "output_type": "execute_result"
    }
   ],
   "source": [
    "# best model\n",
    "gs.best_params_, gs.best_score_"
   ]
  },
  {
   "cell_type": "code",
   "execution_count": 209,
   "metadata": {
    "collapsed": false
   },
   "outputs": [
    {
     "data": {
      "text/plain": [
       "{'alpha': 0.0001,\n",
       " 'average': False,\n",
       " 'epsilon': 0.1,\n",
       " 'eta0': 0.01,\n",
       " 'fit_intercept': True,\n",
       " 'l1_ratio': 0.15,\n",
       " 'learning_rate': 'invscaling',\n",
       " 'loss': 'squared_loss',\n",
       " 'n_iter': 5,\n",
       " 'penalty': 'l2',\n",
       " 'power_t': 0.25,\n",
       " 'random_state': None,\n",
       " 'shuffle': True,\n",
       " 'verbose': 0,\n",
       " 'warm_start': False}"
      ]
     },
     "execution_count": 209,
     "metadata": {},
     "output_type": "execute_result"
    }
   ],
   "source": [
    "sgdreg2.get_params()"
   ]
  },
  {
   "cell_type": "code",
   "execution_count": 210,
   "metadata": {
    "collapsed": false
   },
   "outputs": [],
   "source": [
    "scaler = StandardScaler()\n",
    "\n",
    "scaler.fit(x_train)\n",
    "x_t1 = scaler.transform(x_test)\n",
    "\n",
    "new1 = np.array(y_test).reshape(len(y_test),)\n",
    "\n",
    "scaler.fit(new1)\n",
    "y_t1 = scaler.transform(new1)"
   ]
  },
  {
   "cell_type": "code",
   "execution_count": 211,
   "metadata": {
    "collapsed": false
   },
   "outputs": [
    {
     "data": {
      "text/plain": [
       "GridSearchCV(cv=5, error_score='raise',\n",
       "       estimator=SGDRegressor(alpha=0.0001, average=False, epsilon=0.1, eta0=0.01,\n",
       "       fit_intercept=True, l1_ratio=0.15, learning_rate='invscaling',\n",
       "       loss='squared_loss', n_iter=5, penalty='l2', power_t=0.25,\n",
       "       random_state=None, shuffle=True, verbose=0, warm_start=False),\n",
       "       fit_params={}, iid=True, loss_func=None, n_jobs=1,\n",
       "       param_grid={'penalty': ['l1', 'l2'], 'alpha': array([   0.15   ,    1.15859, ...,   98.99141,  100.     ])},\n",
       "       pre_dispatch='2*n_jobs', refit=True, score_func=None, scoring=None,\n",
       "       verbose=0)"
      ]
     },
     "execution_count": 211,
     "metadata": {},
     "output_type": "execute_result"
    }
   ],
   "source": [
    "# on testing set\n",
    "gs.fit(x_t1,y_t1)"
   ]
  },
  {
   "cell_type": "code",
   "execution_count": 212,
   "metadata": {
    "collapsed": false
   },
   "outputs": [
    {
     "data": {
      "text/plain": [
       "({'alpha': 1.1585858585858584, 'penalty': 'l2'}, 0.58082899519106257)"
      ]
     },
     "execution_count": 212,
     "metadata": {},
     "output_type": "execute_result"
    }
   ],
   "source": [
    "# best model for the test\n",
    "gs.best_params_, gs.best_score_"
   ]
  },
  {
   "cell_type": "code",
   "execution_count": 213,
   "metadata": {
    "collapsed": false
   },
   "outputs": [
    {
     "name": "stdout",
     "output_type": "stream",
     "text": [
      "SGD Regression\n",
      "Elastic Net\t RMSE_train\t RMSE_10cv\n",
      "\n",
      "0.000\t 0.1366\t\t 0.1237\n",
      "0.010\t 0.1363\t\t 0.1239\n",
      "0.020\t 0.1366\t\t 0.1238\n",
      "0.030\t 0.1375\t\t 0.1245\n",
      "0.040\t 0.1369\t\t 0.1237\n",
      "0.051\t 0.1363\t\t 0.1242\n",
      "0.061\t 0.1368\t\t 0.1239\n",
      "0.071\t 0.1363\t\t 0.1246\n",
      "0.081\t 0.1364\t\t 0.1240\n",
      "0.091\t 0.1367\t\t 0.1236\n",
      "0.101\t 0.1362\t\t 0.1239\n",
      "0.111\t 0.1364\t\t 0.1237\n",
      "0.121\t 0.1362\t\t 0.1239\n",
      "0.131\t 0.1363\t\t 0.1242\n",
      "0.141\t 0.1366\t\t 0.1239\n",
      "0.152\t 0.1363\t\t 0.1239\n",
      "0.162\t 0.1364\t\t 0.1237\n",
      "0.172\t 0.1363\t\t 0.1242\n",
      "0.182\t 0.1362\t\t 0.1239\n",
      "0.192\t 0.1362\t\t 0.1237\n",
      "0.202\t 0.1361\t\t 0.1240\n",
      "0.212\t 0.1362\t\t 0.1247\n",
      "0.222\t 0.1368\t\t 0.1239\n",
      "0.232\t 0.1364\t\t 0.1241\n",
      "0.242\t 0.1367\t\t 0.1244\n",
      "0.253\t 0.1363\t\t 0.1238\n",
      "0.263\t 0.1368\t\t 0.1246\n",
      "0.273\t 0.1368\t\t 0.1238\n",
      "0.283\t 0.1362\t\t 0.1242\n",
      "0.293\t 0.1364\t\t 0.1247\n",
      "0.303\t 0.1362\t\t 0.1237\n",
      "0.313\t 0.1362\t\t 0.1238\n",
      "0.323\t 0.1362\t\t 0.1238\n",
      "0.333\t 0.1377\t\t 0.1236\n",
      "0.343\t 0.1364\t\t 0.1236\n",
      "0.354\t 0.1363\t\t 0.1240\n",
      "0.364\t 0.1372\t\t 0.1243\n",
      "0.374\t 0.1368\t\t 0.1240\n",
      "0.384\t 0.1366\t\t 0.1253\n",
      "0.394\t 0.1365\t\t 0.1238\n",
      "0.404\t 0.1367\t\t 0.1242\n",
      "0.414\t 0.1368\t\t 0.1239\n",
      "0.424\t 0.1364\t\t 0.1246\n",
      "0.434\t 0.1380\t\t 0.1236\n",
      "0.444\t 0.1367\t\t 0.1239\n",
      "0.455\t 0.1363\t\t 0.1242\n",
      "0.465\t 0.1370\t\t 0.1240\n",
      "0.475\t 0.1362\t\t 0.1241\n",
      "0.485\t 0.1371\t\t 0.1242\n",
      "0.495\t 0.1365\t\t 0.1239\n",
      "0.505\t 0.1373\t\t 0.1240\n",
      "0.515\t 0.1369\t\t 0.1239\n",
      "0.525\t 0.1362\t\t 0.1243\n",
      "0.535\t 0.1362\t\t 0.1240\n",
      "0.545\t 0.1365\t\t 0.1236\n",
      "0.556\t 0.1365\t\t 0.1239\n",
      "0.566\t 0.1365\t\t 0.1242\n",
      "0.576\t 0.1366\t\t 0.1240\n",
      "0.586\t 0.1374\t\t 0.1246\n",
      "0.596\t 0.1364\t\t 0.1237\n",
      "0.606\t 0.1363\t\t 0.1246\n",
      "0.616\t 0.1368\t\t 0.1237\n",
      "0.626\t 0.1363\t\t 0.1237\n",
      "0.636\t 0.1363\t\t 0.1239\n",
      "0.646\t 0.1368\t\t 0.1239\n",
      "0.657\t 0.1370\t\t 0.1235\n",
      "0.667\t 0.1362\t\t 0.1243\n",
      "0.677\t 0.1363\t\t 0.1240\n",
      "0.687\t 0.1365\t\t 0.1239\n",
      "0.697\t 0.1372\t\t 0.1235\n",
      "0.707\t 0.1364\t\t 0.1237\n",
      "0.717\t 0.1367\t\t 0.1242\n",
      "0.727\t 0.1367\t\t 0.1249\n",
      "0.737\t 0.1363\t\t 0.1240\n",
      "0.747\t 0.1362\t\t 0.1237\n",
      "0.758\t 0.1364\t\t 0.1248\n",
      "0.768\t 0.1366\t\t 0.1237\n",
      "0.778\t 0.1363\t\t 0.1244\n",
      "0.788\t 0.1363\t\t 0.1240\n",
      "0.798\t 0.1363\t\t 0.1242\n",
      "0.808\t 0.1363\t\t 0.1246\n",
      "0.818\t 0.1374\t\t 0.1238\n",
      "0.828\t 0.1370\t\t 0.1243\n",
      "0.838\t 0.1367\t\t 0.1238\n",
      "0.848\t 0.1363\t\t 0.1244\n",
      "0.859\t 0.1369\t\t 0.1241\n",
      "0.869\t 0.1362\t\t 0.1243\n",
      "0.879\t 0.1361\t\t 0.1241\n",
      "0.889\t 0.1373\t\t 0.1239\n",
      "0.899\t 0.1363\t\t 0.1243\n",
      "0.909\t 0.1365\t\t 0.1239\n",
      "0.919\t 0.1362\t\t 0.1235\n",
      "0.929\t 0.1361\t\t 0.1242\n",
      "0.939\t 0.1362\t\t 0.1239\n",
      "0.949\t 0.1363\t\t 0.1248\n",
      "0.960\t 0.1364\t\t 0.1243\n",
      "0.970\t 0.1370\t\t 0.1241\n",
      "0.980\t 0.1364\t\t 0.1243\n",
      "0.990\t 0.1368\t\t 0.1241\n",
      "1.000\t 0.1377\t\t 0.1248\n",
      "0.69696969697\n"
     ]
    }
   ],
   "source": [
    "# SGD regression on train\n",
    "\n",
    "print('SGD Regression')\n",
    "print('Elastic Net\\t RMSE_train\\t RMSE_10cv\\n')\n",
    "l1_ratio = np.linspace(0,1,100)\n",
    "t_rmse = np.array([])\n",
    "cv_rmse = np.array([])\n",
    "\n",
    "for a in l1_ratio:\n",
    "    sgdreg3 = SGDRegressor(fit_intercept=True, l1_ratio=a)\n",
    "    \n",
    "    # computing the RMSE on training data\n",
    "    sgdreg3.fit(x_train,y_train)\n",
    "    p = sgdreg3.predict(x_train)\n",
    "    err = p-y_train\n",
    "    total_error = np.dot(err,err)\n",
    "    rmse_train = np.sqrt(total_error/len(p))\n",
    "\n",
    "    # computing RMSE using 10-fold cross validation\n",
    "    kf = KFold(len(x_train), n_folds=10)\n",
    "    xval_err = 0\n",
    "    for train, test in kf:\n",
    "        sgdreg3.fit(x_train[train], y_train[train])\n",
    "        p = sgdreg3.predict(x_train[test])\n",
    "        err = p - y_train[test]\n",
    "        xval_err += np.dot(err,err)\n",
    "    rmse_10cv = np.sqrt(xval_err/len(x))\n",
    "    \n",
    "    t_rmse = np.append(t_rmse, [rmse_train])\n",
    "    cv_rmse = np.append(cv_rmse, [rmse_10cv])\n",
    "    print('{:.3f}\\t {:.4f}\\t\\t {:.4f}'.format(a,rmse_train,rmse_10cv))\n",
    "answer = l1_ratio[np.where(cv_rmse == min(cv_rmse))[0][0]]\n",
    "print(answer)"
   ]
  },
  {
   "cell_type": "code",
   "execution_count": 214,
   "metadata": {
    "collapsed": false
   },
   "outputs": [
    {
     "data": {
      "text/plain": [
       "GridSearchCV(cv=5, error_score='raise',\n",
       "       estimator=SGDRegressor(alpha=0.0001, average=False, epsilon=0.1, eta0=0.01,\n",
       "       fit_intercept=True, l1_ratio=0.15, learning_rate='invscaling',\n",
       "       loss='squared_loss', n_iter=5, penalty='l2', power_t=0.25,\n",
       "       random_state=None, shuffle=True, verbose=0, warm_start=False),\n",
       "       fit_params={}, iid=True, loss_func=None, n_jobs=1,\n",
       "       param_grid={'penalty': ['l1', 'l2'], 'alpha': array([   0.15   ,    1.15859, ...,   98.99141,  100.     ])},\n",
       "       pre_dispatch='2*n_jobs', refit=True, score_func=None, scoring=None,\n",
       "       verbose=0)"
      ]
     },
     "execution_count": 214,
     "metadata": {},
     "output_type": "execute_result"
    }
   ],
   "source": [
    "scaler = StandardScaler()\n",
    "\n",
    "scaler.fit(x_test)\n",
    "x_t2 = scaler.transform(x_test)\n",
    "\n",
    "new2 = np.array(y_test).reshape(len(y_test),)\n",
    "\n",
    "scaler.fit(new1)\n",
    "y_t2 = scaler.transform(new2)\n",
    "\n",
    "gs.fit(x_t2,y_t2)"
   ]
  },
  {
   "cell_type": "code",
   "execution_count": 215,
   "metadata": {
    "collapsed": true
   },
   "outputs": [],
   "source": [
    "l1_ratio_rg = np.linspace(0, 1, 100)\n",
    "penalty_rg = ['l1', 'l2']\n",
    "\n",
    "parameters = {\n",
    "    'l1_ratio' : l1_ratio_rg,\n",
    "    'penalty': penalty_rg}\n",
    "\n",
    "sgdreg3 = SGDRegressor()\n",
    "\n",
    "gs = GridSearchCV(sgdreg3, parameters, cv=5)"
   ]
  },
  {
   "cell_type": "code",
   "execution_count": 217,
   "metadata": {
    "collapsed": false
   },
   "outputs": [
    {
     "data": {
      "text/plain": [
       "GridSearchCV(cv=5, error_score='raise',\n",
       "       estimator=SGDRegressor(alpha=0.0001, average=False, epsilon=0.1, eta0=0.01,\n",
       "       fit_intercept=True, l1_ratio=0.15, learning_rate='invscaling',\n",
       "       loss='squared_loss', n_iter=5, penalty='l2', power_t=0.25,\n",
       "       random_state=None, shuffle=True, verbose=0, warm_start=False),\n",
       "       fit_params={}, iid=True, loss_func=None, n_jobs=1,\n",
       "       param_grid={'penalty': ['l1', 'l2'], 'l1_ratio': array([ 0.    ,  0.0101, ...,  0.9899,  1.    ])},\n",
       "       pre_dispatch='2*n_jobs', refit=True, score_func=None, scoring=None,\n",
       "       verbose=0)"
      ]
     },
     "execution_count": 217,
     "metadata": {},
     "output_type": "execute_result"
    }
   ],
   "source": [
    "gs.fit(x_t2,y_t2)"
   ]
  },
  {
   "cell_type": "code",
   "execution_count": 218,
   "metadata": {
    "collapsed": false
   },
   "outputs": [
    {
     "data": {
      "text/plain": [
       "({'l1_ratio': 0.63636363636363646, 'penalty': 'l2'}, 0.5755668996035167)"
      ]
     },
     "execution_count": 218,
     "metadata": {},
     "output_type": "execute_result"
    }
   ],
   "source": [
    "# best model for the test\n",
    "gs.best_params_, gs.best_score_"
   ]
  },
  {
   "cell_type": "code",
   "execution_count": null,
   "metadata": {
    "collapsed": true
   },
   "outputs": [],
   "source": [
    "# for using '1l_ratio, training value showed 0.6969, and by using grid search, testing value was 0.6363"
   ]
  },
  {
   "cell_type": "markdown",
   "metadata": {
    "collapsed": true
   },
   "source": [
    "# #Question 2. Automatic Document Clustering"
   ]
  },
  {
   "cell_type": "code",
   "execution_count": 331,
   "metadata": {
    "collapsed": false
   },
   "outputs": [],
   "source": [
    "import numpy as np\n",
    "from numpy import genfromtxt\n",
    "import pylab as pl\n",
    "from sklearn.cluster import KMeans "
   ]
  },
  {
   "cell_type": "code",
   "execution_count": 332,
   "metadata": {
    "collapsed": false
   },
   "outputs": [
    {
     "name": "stdout",
     "output_type": "stream",
     "text": [
      "C:\\Users\\hchoi30\\Desktop\\csc478\\newsgroups5\n"
     ]
    }
   ],
   "source": [
    "cd C:\\Users\\hchoi30\\Desktop\\csc478\\newsgroups5"
   ]
  },
  {
   "cell_type": "code",
   "execution_count": 333,
   "metadata": {
    "collapsed": false
   },
   "outputs": [],
   "source": [
    "import kMeans"
   ]
  },
  {
   "cell_type": "markdown",
   "metadata": {},
   "source": [
    "# Question 2.a "
   ]
  },
  {
   "cell_type": "code",
   "execution_count": 334,
   "metadata": {
    "collapsed": true
   },
   "outputs": [],
   "source": [
    "def cosineSimilar (vec1, vec2):\n",
    "    vec1_norm = np.linalg.norm(vec1)\n",
    "    vec2_norm = np.linalg.norm(vec2)  \n",
    "    den = vec1_norm * vec2_norm\n",
    "    num = np.dot(vec1, vec2)\n",
    "    distance = 1 - (num/den)\n",
    "    return distance"
   ]
  },
  {
   "cell_type": "markdown",
   "metadata": {},
   "source": [
    "# Question 2.b"
   ]
  },
  {
   "cell_type": "code",
   "execution_count": 335,
   "metadata": {
    "collapsed": false
   },
   "outputs": [],
   "source": [
    "classes = np.genfromtxt(\"classes.txt\", delimiter=\"\\t\", dtype = str)"
   ]
  },
  {
   "cell_type": "code",
   "execution_count": 336,
   "metadata": {
    "collapsed": false
   },
   "outputs": [
    {
     "data": {
      "text/plain": [
       "array(['0 0', '1 1', '2 1', ..., '2497 3', '2498 4', '2499 2'], \n",
       "      dtype='|S6')"
      ]
     },
     "execution_count": 336,
     "metadata": {},
     "output_type": "execute_result"
    }
   ],
   "source": [
    "classes"
   ]
  },
  {
   "cell_type": "code",
   "execution_count": 337,
   "metadata": {
    "collapsed": false
   },
   "outputs": [
    {
     "data": {
      "text/plain": [
       "(2500L,)"
      ]
     },
     "execution_count": 337,
     "metadata": {},
     "output_type": "execute_result"
    }
   ],
   "source": [
    "classes.shape"
   ]
  },
  {
   "cell_type": "code",
   "execution_count": 338,
   "metadata": {
    "collapsed": false
   },
   "outputs": [],
   "source": [
    "terms = genfromtxt('terms.txt', delimiter='\\t', dtype = str)"
   ]
  },
  {
   "cell_type": "code",
   "execution_count": 339,
   "metadata": {
    "collapsed": false
   },
   "outputs": [
    {
     "data": {
      "text/plain": [
       "array(['aa', 'aargh', 'aaron', 'aaronc', 'ab', 'abandon', 'abc', 'abid', 'abil', 'abl'], \n",
       "      dtype='|S30')"
      ]
     },
     "execution_count": 339,
     "metadata": {},
     "output_type": "execute_result"
    }
   ],
   "source": [
    "terms[:10]"
   ]
  },
  {
   "cell_type": "code",
   "execution_count": 340,
   "metadata": {
    "collapsed": false
   },
   "outputs": [],
   "source": [
    "matrix = np.genfromtxt(\"matrix.txt\",delimiter=\",\",dtype = int)\n",
    "matrixT = matrix.T"
   ]
  },
  {
   "cell_type": "code",
   "execution_count": 341,
   "metadata": {
    "collapsed": false
   },
   "outputs": [
    {
     "data": {
      "text/plain": [
       "2500"
      ]
     },
     "execution_count": 341,
     "metadata": {},
     "output_type": "execute_result"
    }
   ],
   "source": [
    "len(matrixT)"
   ]
  },
  {
   "cell_type": "code",
   "execution_count": 342,
   "metadata": {
    "collapsed": false
   },
   "outputs": [],
   "source": [
    "from sklearn.cross_validation  import train_test_split\n",
    "matrixT_train, matrixT_test = train_test_split(matrixT, test_size=0.2, random_state=33)"
   ]
  },
  {
   "cell_type": "code",
   "execution_count": 343,
   "metadata": {
    "collapsed": true
   },
   "outputs": [],
   "source": [
    "from sklearn.cross_validation  import train_test_split\n",
    "classes_train, classes_test = train_test_split(classes, test_size=0.2, random_state=33)"
   ]
  },
  {
   "cell_type": "code",
   "execution_count": 344,
   "metadata": {
    "collapsed": false
   },
   "outputs": [
    {
     "name": "stdout",
     "output_type": "stream",
     "text": [
      "(2000L,)\n",
      "(500L,)\n"
     ]
    }
   ],
   "source": [
    "print classes_train.shape\n",
    "print classes_test.shape"
   ]
  },
  {
   "cell_type": "code",
   "execution_count": 345,
   "metadata": {
    "collapsed": false
   },
   "outputs": [
    {
     "data": {
      "text/plain": [
       "(500L, 9328L)"
      ]
     },
     "execution_count": 345,
     "metadata": {},
     "output_type": "execute_result"
    }
   ],
   "source": [
    "matrixT_test.shape"
   ]
  },
  {
   "cell_type": "code",
   "execution_count": 346,
   "metadata": {
    "collapsed": false
   },
   "outputs": [
    {
     "data": {
      "text/plain": [
       "(2000L, 9328L)"
      ]
     },
     "execution_count": 346,
     "metadata": {},
     "output_type": "execute_result"
    }
   ],
   "source": [
    "matrixT_train.shape"
   ]
  },
  {
   "cell_type": "markdown",
   "metadata": {},
   "source": [
    "# Question 2.c"
   ]
  },
  {
   "cell_type": "code",
   "execution_count": 347,
   "metadata": {
    "collapsed": false
   },
   "outputs": [
    {
     "data": {
      "text/plain": [
       "array([[ 0.,  0.,  0., ...,  0.,  0.,  0.],\n",
       "       [ 0.,  0.,  0., ...,  0.,  0.,  0.],\n",
       "       [ 0.,  0.,  0., ...,  0.,  0.,  0.],\n",
       "       ..., \n",
       "       [ 0.,  0.,  0., ...,  0.,  0.,  0.],\n",
       "       [ 0.,  0.,  0., ...,  0.,  0.,  0.],\n",
       "       [ 0.,  0.,  0., ...,  0.,  0.,  0.]])"
      ]
     },
     "execution_count": 347,
     "metadata": {},
     "output_type": "execute_result"
    }
   ],
   "source": [
    "numterms=len(matrixT[0])\n",
    "NDocs = len(matrixT[:,0])\n",
    "\n",
    "termFreqs = matrix.sum(axis=1)\n",
    "\n",
    "dictTF = {}\n",
    "for i in range (len(termFreqs)):\n",
    "    dictTF[terms[i]] = termFreqs[i]\n",
    "sortedTF = sorted(dictTF.values(),reverse=True)\n",
    "\n",
    "DF_train = np.array([(matrixT_train !=0).sum(1)]).T\n",
    "NMatrix_train=np.ones(np.shape(matrixT_train), dtype=float)*NDocs\n",
    "np.set_printoptions(precision=2, suppress=True, linewidth=100)\n",
    "\n",
    "IDF_train=np.log2(np.divide(NMatrix_train,DF_train))\n",
    "\n",
    "TFIDF_train = matrixT_train*IDF_train\n",
    "TFIDF_train "
   ]
  },
  {
   "cell_type": "code",
   "execution_count": 348,
   "metadata": {
    "collapsed": false
   },
   "outputs": [
    {
     "data": {
      "text/plain": [
       "array([[ 0.,  0.,  0., ...,  0.,  0.,  0.],\n",
       "       [ 0.,  0.,  0., ...,  0.,  0.,  0.],\n",
       "       [ 0.,  0.,  0., ...,  0.,  0.,  0.],\n",
       "       ..., \n",
       "       [ 0.,  0.,  0., ...,  0.,  0.,  0.],\n",
       "       [ 0.,  0.,  0., ...,  0.,  0.,  0.],\n",
       "       [ 0.,  0.,  0., ...,  0.,  0.,  0.]])"
      ]
     },
     "execution_count": 348,
     "metadata": {},
     "output_type": "execute_result"
    }
   ],
   "source": [
    "DF_test = np.array([(matrixT_test !=0).sum(1)]).T\n",
    "NMatrix_test=np.ones(np.shape(matrixT_test), dtype=float)*500\n",
    "np.set_printoptions(precision=2, suppress=True, linewidth=100)\n",
    "\n",
    "IDF_test=np.log2(np.divide(NMatrix_test,DF_test))\n",
    "\n",
    "TFIDF_test = matrixT_test*IDF_test\n",
    "TFIDF_test "
   ]
  },
  {
   "cell_type": "markdown",
   "metadata": {
    "collapsed": true
   },
   "source": [
    "# Question 2.d"
   ]
  },
  {
   "cell_type": "code",
   "execution_count": 349,
   "metadata": {
    "collapsed": false
   },
   "outputs": [
    {
     "data": {
      "text/plain": [
       "array([[ 0.4 ,  0.54,  2.46, ..., -4.48, -3.  , -1.59],\n",
       "       [-2.85,  0.72,  3.67, ..., -3.14, -0.03, -1.98],\n",
       "       [-2.36,  2.62,  4.5 , ..., -5.34, -1.47, -1.95],\n",
       "       [ 3.32,  0.57,  3.88, ..., -3.85, -2.48,  0.44],\n",
       "       [ 3.25,  1.02,  3.65, ..., -2.14, -2.86,  0.9 ]])"
      ]
     },
     "execution_count": 349,
     "metadata": {},
     "output_type": "execute_result"
    }
   ],
   "source": [
    "kMeans.randCent(TFIDF_test,5)"
   ]
  },
  {
   "cell_type": "code",
   "execution_count": 350,
   "metadata": {
    "collapsed": false
   },
   "outputs": [],
   "source": [
    "#cluster result of train\n",
    "myCentroids, clustAssing = kMeans.kMeans(TFIDF_train,5,cosineSimilar, kMeans.randCent)"
   ]
  },
  {
   "cell_type": "code",
   "execution_count": 283,
   "metadata": {
    "collapsed": false
   },
   "outputs": [],
   "source": [
    "#from scipy.spatial.distance import cosine\n",
    "#myCentroids, clustAssing = kMeans.kMeans(TFIDF_train,5,cosine, kMeans.randCent)"
   ]
  },
  {
   "cell_type": "code",
   "execution_count": 351,
   "metadata": {
    "collapsed": true
   },
   "outputs": [],
   "source": [
    "#cluster result of test\n",
    "myCentroids1, clustAssin1 = kMeans.kMeans(TFIDF_test,5,cosineSimilar, kMeans.randCent)"
   ]
  },
  {
   "cell_type": "code",
   "execution_count": 352,
   "metadata": {
    "collapsed": false
   },
   "outputs": [],
   "source": [
    "TFIDF_test_cluster = clustAssin1 .T\n",
    "TFIDF_test_cluster = TFIDF_test_cluster[:1].T"
   ]
  },
  {
   "cell_type": "code",
   "execution_count": 353,
   "metadata": {
    "collapsed": false
   },
   "outputs": [],
   "source": [
    "TFIDF_train_cluster = clustAssing .T\n",
    "TFIDF_train_cluster = TFIDF_train_cluster[:1].T"
   ]
  },
  {
   "cell_type": "code",
   "execution_count": 428,
   "metadata": {
    "collapsed": false
   },
   "outputs": [],
   "source": [
    "def countcluster(k):\n",
    "    count= 0\n",
    "    sumvec=np.zeros((9328))\n",
    "    for i in range(2000):\n",
    "           if  TFIDF_train_cluster[i] == k:\n",
    "                count +=1\n",
    "                doc = int(TFIDF_train_cluster[i][0])\n",
    "                sumvec += TFIDF_train[doc,:] \n",
    "    \n",
    "    sum1 = np.sum(sumvec)        \n",
    "\n",
    "    sumvec2 = (-np.array(sumvec)).argsort()[:5]\n",
    "\n",
    "    print (\"The size of the cluster %s is %s\" % (k, count))\n",
    "    print (\"Top 5 terms in cluster %s are\"%(k))\n",
    "    for i in range(6):\n",
    "        TopNTerms= terms[sumvec2[:i]]\n",
    "    print TopNTerms\n",
    "    print \"\\t\"\n",
    "\n",
    "    for f in range (5):\n",
    "        a = sumvec2[f]\n",
    "        b = sumvec[a:a+1]\n",
    "        p = b/sum1*100\n",
    "    \n",
    "        print \"'\",TopNTerms[f],\"'\",\"shows\" , b, \"times in this cluster.\"\n",
    "        print \"and the percentage of docs in the cluster in which the terms appear is \", p,\"%\"\n",
    "        print \"\\t\""
   ]
  },
  {
   "cell_type": "code",
   "execution_count": 429,
   "metadata": {
    "collapsed": false
   },
   "outputs": [
    {
     "name": "stdout",
     "output_type": "stream",
     "text": [
      "The size of the cluster 0 is 3\n",
      "Top 5 terms in cluster 0 are\n",
      "['jth' 'bachudeledu' 'forsal' 'jai' 'radar']\n",
      "\t\n",
      "' jth ' shows [ 38.88] times in this cluster.\n",
      "and the percentage of docs in the cluster in which the terms appear is  [ 5.88] %\n",
      "\t\n",
      "' bachudeledu ' shows [ 38.88] times in this cluster.\n",
      "and the percentage of docs in the cluster in which the terms appear is  [ 5.88] %\n",
      "\t\n",
      "' forsal ' shows [ 38.88] times in this cluster.\n",
      "and the percentage of docs in the cluster in which the terms appear is  [ 5.88] %\n",
      "\t\n",
      "' jai ' shows [ 38.88] times in this cluster.\n",
      "and the percentage of docs in the cluster in which the terms appear is  [ 5.88] %\n",
      "\t\n",
      "' radar ' shows [ 38.88] times in this cluster.\n",
      "and the percentage of docs in the cluster in which the terms appear is  [ 5.88] %\n",
      "\t\n"
     ]
    }
   ],
   "source": [
    "c0 = countcluster(0)"
   ]
  },
  {
   "cell_type": "code",
   "execution_count": 430,
   "metadata": {
    "collapsed": false
   },
   "outputs": [
    {
     "name": "stdout",
     "output_type": "stream",
     "text": [
      "The size of the cluster 1 is 392\n",
      "Top 5 terms in cluster 1 are\n",
      "['score' 'sum' 'fritz' 'germani' 'excel']\n",
      "\t\n",
      "' score ' shows [ 8030.06] times in this cluster.\n",
      "and the percentage of docs in the cluster in which the terms appear is  [ 10.71] %\n",
      "\t\n",
      "' sum ' shows [ 8030.06] times in this cluster.\n",
      "and the percentage of docs in the cluster in which the terms appear is  [ 10.71] %\n",
      "\t\n",
      "' fritz ' shows [ 5353.37] times in this cluster.\n",
      "and the percentage of docs in the cluster in which the terms appear is  [ 7.14] %\n",
      "\t\n",
      "' germani ' shows [ 5353.37] times in this cluster.\n",
      "and the percentage of docs in the cluster in which the terms appear is  [ 7.14] %\n",
      "\t\n",
      "' excel ' shows [ 2676.69] times in this cluster.\n",
      "and the percentage of docs in the cluster in which the terms appear is  [ 3.57] %\n",
      "\t\n"
     ]
    }
   ],
   "source": [
    "c1 = countcluster(1)"
   ]
  },
  {
   "cell_type": "code",
   "execution_count": 431,
   "metadata": {
    "collapsed": false
   },
   "outputs": [
    {
     "name": "stdout",
     "output_type": "stream",
     "text": [
      "The size of the cluster 2 is 4\n",
      "Top 5 terms in cluster 2 are\n",
      "['cd' 'set' 'loop' 'sound' 'sale']\n",
      "\t\n",
      "' cd ' shows [ 97.88] times in this cluster.\n",
      "and the percentage of docs in the cluster in which the terms appear is  [ 7.84] %\n",
      "\t\n",
      "' set ' shows [ 73.41] times in this cluster.\n",
      "and the percentage of docs in the cluster in which the terms appear is  [ 5.88] %\n",
      "\t\n",
      "' loop ' shows [ 73.41] times in this cluster.\n",
      "and the percentage of docs in the cluster in which the terms appear is  [ 5.88] %\n",
      "\t\n",
      "' sound ' shows [ 73.41] times in this cluster.\n",
      "and the percentage of docs in the cluster in which the terms appear is  [ 5.88] %\n",
      "\t\n",
      "' sale ' shows [ 48.94] times in this cluster.\n",
      "and the percentage of docs in the cluster in which the terms appear is  [ 3.92] %\n",
      "\t\n"
     ]
    }
   ],
   "source": [
    "c2 = countcluster(2)"
   ]
  },
  {
   "cell_type": "code",
   "execution_count": 432,
   "metadata": {
    "collapsed": false
   },
   "outputs": [
    {
     "name": "stdout",
     "output_type": "stream",
     "text": [
      "The size of the cluster 3 is 6\n",
      "Top 5 terms in cluster 3 are\n",
      "['jone' 'vh' 'indiana' 'sale' 'return']\n",
      "\t\n",
      "' jone ' shows [ 76.] times in this cluster.\n",
      "and the percentage of docs in the cluster in which the terms appear is  [ 5.71] %\n",
      "\t\n",
      "' vh ' shows [ 76.] times in this cluster.\n",
      "and the percentage of docs in the cluster in which the terms appear is  [ 5.71] %\n",
      "\t\n",
      "' indiana ' shows [ 76.] times in this cluster.\n",
      "and the percentage of docs in the cluster in which the terms appear is  [ 5.71] %\n",
      "\t\n",
      "' sale ' shows [ 76.] times in this cluster.\n",
      "and the percentage of docs in the cluster in which the terms appear is  [ 5.71] %\n",
      "\t\n",
      "' return ' shows [ 38.] times in this cluster.\n",
      "and the percentage of docs in the cluster in which the terms appear is  [ 2.86] %\n",
      "\t\n"
     ]
    }
   ],
   "source": [
    "c3 = countcluster(3)"
   ]
  },
  {
   "cell_type": "code",
   "execution_count": 433,
   "metadata": {
    "collapsed": false
   },
   "outputs": [
    {
     "name": "stdout",
     "output_type": "stream",
     "text": [
      "The size of the cluster 4 is 1595\n",
      "Top 5 terms in cluster 4 are\n",
      "['amanda' 'protect' 'walker' 'govern' 'interest']\n",
      "\t\n",
      "' amanda ' shows [ 50509.79] times in this cluster.\n",
      "and the percentage of docs in the cluster in which the terms appear is  [ 11.11] %\n",
      "\t\n",
      "' protect ' shows [ 40407.83] times in this cluster.\n",
      "and the percentage of docs in the cluster in which the terms appear is  [ 8.89] %\n",
      "\t\n",
      "' walker ' shows [ 30305.87] times in this cluster.\n",
      "and the percentage of docs in the cluster in which the terms appear is  [ 6.67] %\n",
      "\t\n",
      "' govern ' shows [ 20203.92] times in this cluster.\n",
      "and the percentage of docs in the cluster in which the terms appear is  [ 4.44] %\n",
      "\t\n",
      "' interest ' shows [ 20203.92] times in this cluster.\n",
      "and the percentage of docs in the cluster in which the terms appear is  [ 4.44] %\n",
      "\t\n"
     ]
    }
   ],
   "source": [
    "c4 = countcluster(4)"
   ]
  },
  {
   "cell_type": "markdown",
   "metadata": {
    "collapsed": true
   },
   "source": [
    "# Question 2.e"
   ]
  },
  {
   "cell_type": "code",
   "execution_count": 360,
   "metadata": {
    "collapsed": true
   },
   "outputs": [],
   "source": [
    "from sklearn.metrics import completeness_score, homogeneity_score"
   ]
  },
  {
   "cell_type": "code",
   "execution_count": 361,
   "metadata": {
    "collapsed": false
   },
   "outputs": [],
   "source": [
    "documents = pd.DataFrame(clustAssing, columns = ['Pred', 'Dist'])\n",
    "documents['classes_train'] = classes_train\n",
    "\n",
    "newC = np.array(documents.classes_train)\n",
    "t = np.array(documents.Pred)"
   ]
  },
  {
   "cell_type": "code",
   "execution_count": 362,
   "metadata": {
    "collapsed": false
   },
   "outputs": [
    {
     "name": "stdout",
     "output_type": "stream",
     "text": [
      "Completeness Score 0.0709748239258\n"
     ]
    }
   ],
   "source": [
    "print 'Completeness Score',completeness_score(t,newC)"
   ]
  },
  {
   "cell_type": "code",
   "execution_count": 363,
   "metadata": {
    "collapsed": false
   },
   "outputs": [
    {
     "name": "stdout",
     "output_type": "stream",
     "text": [
      "Homogeneity Score 1.0\n"
     ]
    }
   ],
   "source": [
    "print 'Homogeneity Score',homogeneity_score(t,newC)"
   ]
  },
  {
   "cell_type": "markdown",
   "metadata": {},
   "source": [
    "# Question 2.f"
   ]
  },
  {
   "cell_type": "code",
   "execution_count": 496,
   "metadata": {
    "collapsed": true
   },
   "outputs": [],
   "source": [
    "Centroids1, clustAssing1 = kMeans.kMeans(TFIDF_test,5,cosineSimilar, kMeans.randCent)"
   ]
  },
  {
   "cell_type": "code",
   "execution_count": 509,
   "metadata": {
    "collapsed": false
   },
   "outputs": [],
   "source": [
    "np.savetxt(\"Result.txt\", clustAssing1, fmt=\"%.2f\")"
   ]
  },
  {
   "cell_type": "code",
   "execution_count": 508,
   "metadata": {
    "collapsed": false
   },
   "outputs": [],
   "source": [
    "import math as m\n",
    "result = []\n",
    "dict = {0:'hockey',1:'christian',2:'forsale',3:'crypt',4:'windows'}\n",
    "\n",
    "matrixT_test_p = pd.DataFrame(matrixT_test)\n",
    "\n",
    "for index, row in matrixT_test_p.iterrows():\n",
    "\n",
    "    c = cosineSimilar(row,Centroids1.T)\n",
    "\n",
    "    tfidx = np.argsort(cosineSimilar)    \n",
    "\n",
    "    result.append([index,dict[tfidx[0]],tfidx[0],c[0],c[1],c[2],c[3],c[4]])\n",
    "\n",
    "myresult = pd.DataFrame(result,columns=['Doc original index','Class label','Cluster','CS distance cluster 0','CS distance cluster 1','CS distance cluster 2','CS distance cluster 3','CS distance. cluster 4'])    \n",
    "\n",
    "myresult.to_csv('Result.csv',index=False)"
   ]
  },
  {
   "cell_type": "code",
   "execution_count": null,
   "metadata": {
    "collapsed": true
   },
   "outputs": [],
   "source": []
  }
 ],
 "metadata": {
  "kernelspec": {
   "display_name": "Python 2",
   "language": "python",
   "name": "python2"
  },
  "language_info": {
   "codemirror_mode": {
    "name": "ipython",
    "version": 2
   },
   "file_extension": ".py",
   "mimetype": "text/x-python",
   "name": "python",
   "nbconvert_exporter": "python",
   "pygments_lexer": "ipython2",
   "version": "2.7.10"
  }
 },
 "nbformat": 4,
 "nbformat_minor": 0
}
